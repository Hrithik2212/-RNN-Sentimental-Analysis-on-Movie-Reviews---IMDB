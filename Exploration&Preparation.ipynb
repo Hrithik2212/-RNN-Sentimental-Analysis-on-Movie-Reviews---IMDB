{
 "cells": [
  {
   "cell_type": "markdown",
   "metadata": {},
   "source": [
    "# _*Exploration and Preparation*_"
   ]
  },
  {
   "cell_type": "code",
   "execution_count": 3,
   "metadata": {},
   "outputs": [],
   "source": [
    "import textblob as tb\n",
    "from wordcloud import WordCloud\n",
    "import re \n",
    "import pandas as pd\n",
    "import matplotlib.pyplot as plt\n",
    "import seaborn as sns "
   ]
  },
  {
   "cell_type": "markdown",
   "metadata": {},
   "source": [
    "### Description\n",
    "\n",
    "##### The core dataset contains 50,000 reviews of movies from IMDB split evenly into 25k train and 25k test sets. The overall distribution of labels is balanced (25k pos and 25k neg)\n",
    "##### In the entire collection, no more than 30 reviews are allowed for any given movie because reviews for the same movie tend to have correlated ratings. Further, the train and test sets contain a disjoint set of movies, so no significant performance is obtained by memorizing movie-unique terms and their associated with observed labels.  In the labeled train/test sets, a negative review has a score <= 4 out of 10, and a positive review has a score >= 7 out of 10. Thus reviews with more neutral ratings are not included in the train/test sets."
   ]
  },
  {
   "cell_type": "markdown",
   "metadata": {},
   "source": [
    "### Exploration "
   ]
  },
  {
   "cell_type": "code",
   "execution_count": 4,
   "metadata": {},
   "outputs": [
    {
     "name": "stdout",
     "output_type": "stream",
     "text": [
      "<class 'pandas.core.frame.DataFrame'>\n",
      "RangeIndex: 24984 entries, 0 to 24983\n",
      "Data columns (total 3 columns):\n",
      " #   Column       Non-Null Count  Dtype \n",
      "---  ------       --------------  ----- \n",
      " 0   Unnamed: 0   24984 non-null  int64 \n",
      " 1   Text_Review  24984 non-null  object\n",
      " 2   Sentiment    24984 non-null  object\n",
      "dtypes: int64(1), object(2)\n",
      "memory usage: 585.7+ KB\n"
     ]
    }
   ],
   "source": [
    "train_data = pd.read_csv('Train_reviews.csv')\n",
    "train_data.info()"
   ]
  },
  {
   "cell_type": "code",
   "execution_count": 5,
   "metadata": {},
   "outputs": [
    {
     "data": {
      "text/html": [
       "<div>\n",
       "<style scoped>\n",
       "    .dataframe tbody tr th:only-of-type {\n",
       "        vertical-align: middle;\n",
       "    }\n",
       "\n",
       "    .dataframe tbody tr th {\n",
       "        vertical-align: top;\n",
       "    }\n",
       "\n",
       "    .dataframe thead th {\n",
       "        text-align: right;\n",
       "    }\n",
       "</style>\n",
       "<table border=\"1\" class=\"dataframe\">\n",
       "  <thead>\n",
       "    <tr style=\"text-align: right;\">\n",
       "      <th></th>\n",
       "      <th>Unnamed: 0</th>\n",
       "      <th>Text_Review</th>\n",
       "      <th>Sentiment</th>\n",
       "    </tr>\n",
       "  </thead>\n",
       "  <tbody>\n",
       "    <tr>\n",
       "      <th>0</th>\n",
       "      <td>0</td>\n",
       "      <td>['Bromwell High is a cartoon comedy. It ran at...</td>\n",
       "      <td>positive</td>\n",
       "    </tr>\n",
       "    <tr>\n",
       "      <th>1</th>\n",
       "      <td>1</td>\n",
       "      <td>['Homelessness (or Houselessness as George Car...</td>\n",
       "      <td>positive</td>\n",
       "    </tr>\n",
       "    <tr>\n",
       "      <th>2</th>\n",
       "      <td>2</td>\n",
       "      <td>['Brilliant over-acting by Lesley Ann Warren. ...</td>\n",
       "      <td>positive</td>\n",
       "    </tr>\n",
       "    <tr>\n",
       "      <th>3</th>\n",
       "      <td>3</td>\n",
       "      <td>['This is easily the most underrated film inn ...</td>\n",
       "      <td>positive</td>\n",
       "    </tr>\n",
       "    <tr>\n",
       "      <th>4</th>\n",
       "      <td>4</td>\n",
       "      <td>['This is not the typical Mel Brooks film. It ...</td>\n",
       "      <td>positive</td>\n",
       "    </tr>\n",
       "  </tbody>\n",
       "</table>\n",
       "</div>"
      ],
      "text/plain": [
       "   Unnamed: 0                                        Text_Review Sentiment\n",
       "0           0  ['Bromwell High is a cartoon comedy. It ran at...  positive\n",
       "1           1  ['Homelessness (or Houselessness as George Car...  positive\n",
       "2           2  ['Brilliant over-acting by Lesley Ann Warren. ...  positive\n",
       "3           3  ['This is easily the most underrated film inn ...  positive\n",
       "4           4  ['This is not the typical Mel Brooks film. It ...  positive"
      ]
     },
     "execution_count": 5,
     "metadata": {},
     "output_type": "execute_result"
    }
   ],
   "source": [
    "train_data.head()"
   ]
  },
  {
   "cell_type": "code",
   "execution_count": 6,
   "metadata": {},
   "outputs": [
    {
     "name": "stdout",
     "output_type": "stream",
     "text": [
      "<class 'pandas.core.frame.DataFrame'>\n",
      "RangeIndex: 24984 entries, 0 to 24983\n",
      "Data columns (total 2 columns):\n",
      " #   Column       Non-Null Count  Dtype \n",
      "---  ------       --------------  ----- \n",
      " 0   Text_Review  24984 non-null  object\n",
      " 1   Sentiment    24984 non-null  object\n",
      "dtypes: object(2)\n",
      "memory usage: 390.5+ KB\n"
     ]
    }
   ],
   "source": [
    "train_data = train_data.drop('Unnamed: 0',axis=1)\n",
    "train_data.info()"
   ]
  },
  {
   "cell_type": "code",
   "execution_count": 7,
   "metadata": {},
   "outputs": [
    {
     "data": {
      "text/html": [
       "<div>\n",
       "<style scoped>\n",
       "    .dataframe tbody tr th:only-of-type {\n",
       "        vertical-align: middle;\n",
       "    }\n",
       "\n",
       "    .dataframe tbody tr th {\n",
       "        vertical-align: top;\n",
       "    }\n",
       "\n",
       "    .dataframe thead th {\n",
       "        text-align: right;\n",
       "    }\n",
       "</style>\n",
       "<table border=\"1\" class=\"dataframe\">\n",
       "  <thead>\n",
       "    <tr style=\"text-align: right;\">\n",
       "      <th></th>\n",
       "      <th>Text_Review</th>\n",
       "      <th>Sentiment</th>\n",
       "    </tr>\n",
       "  </thead>\n",
       "  <tbody>\n",
       "    <tr>\n",
       "      <th>17368</th>\n",
       "      <td>['The tragedy of the doomed ship Titanic has i...</td>\n",
       "      <td>negative</td>\n",
       "    </tr>\n",
       "    <tr>\n",
       "      <th>10031</th>\n",
       "      <td>[\"I love Ashley Judd and think all of her movi...</td>\n",
       "      <td>positive</td>\n",
       "    </tr>\n",
       "    <tr>\n",
       "      <th>4355</th>\n",
       "      <td>[\"This film takes you on one family's impossib...</td>\n",
       "      <td>positive</td>\n",
       "    </tr>\n",
       "    <tr>\n",
       "      <th>2251</th>\n",
       "      <td>['I like the movie. Twisted Desire had Jeremy ...</td>\n",
       "      <td>positive</td>\n",
       "    </tr>\n",
       "    <tr>\n",
       "      <th>18369</th>\n",
       "      <td>['From a plot and movement standpoint, this mo...</td>\n",
       "      <td>negative</td>\n",
       "    </tr>\n",
       "    <tr>\n",
       "      <th>12314</th>\n",
       "      <td>['There are very few movies that are so funny ...</td>\n",
       "      <td>positive</td>\n",
       "    </tr>\n",
       "    <tr>\n",
       "      <th>3133</th>\n",
       "      <td>['Although the beginning of the movie in New Y...</td>\n",
       "      <td>positive</td>\n",
       "    </tr>\n",
       "    <tr>\n",
       "      <th>23198</th>\n",
       "      <td>['Ostensibly this is a Z-grade DTV horror film...</td>\n",
       "      <td>negative</td>\n",
       "    </tr>\n",
       "    <tr>\n",
       "      <th>13632</th>\n",
       "      <td>[\"Anyone who visited drive-ins in the 1950s, 6...</td>\n",
       "      <td>negative</td>\n",
       "    </tr>\n",
       "    <tr>\n",
       "      <th>22722</th>\n",
       "      <td>['CREEPSHOW 2 is the ill-fated sequel to the G...</td>\n",
       "      <td>negative</td>\n",
       "    </tr>\n",
       "  </tbody>\n",
       "</table>\n",
       "</div>"
      ],
      "text/plain": [
       "                                             Text_Review Sentiment\n",
       "17368  ['The tragedy of the doomed ship Titanic has i...  negative\n",
       "10031  [\"I love Ashley Judd and think all of her movi...  positive\n",
       "4355   [\"This film takes you on one family's impossib...  positive\n",
       "2251   ['I like the movie. Twisted Desire had Jeremy ...  positive\n",
       "18369  ['From a plot and movement standpoint, this mo...  negative\n",
       "12314  ['There are very few movies that are so funny ...  positive\n",
       "3133   ['Although the beginning of the movie in New Y...  positive\n",
       "23198  ['Ostensibly this is a Z-grade DTV horror film...  negative\n",
       "13632  [\"Anyone who visited drive-ins in the 1950s, 6...  negative\n",
       "22722  ['CREEPSHOW 2 is the ill-fated sequel to the G...  negative"
      ]
     },
     "execution_count": 7,
     "metadata": {},
     "output_type": "execute_result"
    }
   ],
   "source": [
    "a = train_data.sample(10)\n",
    "a"
   ]
  },
  {
   "cell_type": "code",
   "execution_count": 8,
   "metadata": {},
   "outputs": [
    {
     "name": "stdout",
     "output_type": "stream",
     "text": [
      "1) ['The tragedy of the doomed ship Titanic has inspired many books and movies. The battle between nature and technology always caught man\\'s imagination. The latest film concerning this tragedy in the Atlantic Ocean was written and directed by famous action movie filmmaker James Cameron. The story of \"Titanic\" involves two fictional characters (Leonardo DiCaprio and Kate Winslet) from different backgrounds (one is a hobo-artist, the other is an aristocrat) and how their love triumphs over societal barriers and the tragedy of a sinking ship that they happen to be on.<br /><br />First of all, although using a historical name, this movie had little regard to history. The plot was built around two fictional lovers, French diamond, and treasure hunters. The deaths of over a thousand of people on the greatest luxury ship of its time became a mere background. Many historical facts were simply forgotten. Where was the radio operator that ignored the iceberg warnings? Why was there no mention of the ship that was only 5 miles away from the Titanic but did not come to the rescue because its captain failed to identify the distress signal? Omitting these facts is an insult to the tragedy. And what was the point of flavoring this historical disaster with fictional cheesy romance when the story is already as sad as it is.<br /><br />The overall plot was rather shallow; rich equals greed and corruption, poverty equals compassion and heroism. It is very ironic to spend $200 million to make a movie about how money corrupts. There was absolutely no human side shown in anti-heroes. It seemed like Billy Zane was playing a part of the devil. Casting was also very poor. If DiCaprio was 2 inches shorter than Winslet, you could swear she was his baby-sitter. The length of the movie was unnecessarily stretched to over 3 hours. First hour and the half was wasted on establishing the relationships between the characters that were known to audience long before they went to theater and the dialogue that was used to do so made it even worse. Hearing corny pick up lines such as \"I see you\" and \"This is my side of the ship\" generated more pain than the screams of drowning people. Also, jokes were too abundant and rather lame.<br /><br />\"Titanic\" did involve some moving scenes such as the part when the musicians were playing while the ship was sinking but they were no way near anything original. The best thing about this film were its special effects, and that is the only thing that truly deserved an award.<br /><br />Although this film lacked artistical value in overall sense, the public could not resist a sentimental story starring Romeo (DiCaprio), and so the movie became a success. Now it is safe to say that the industry will be less hesitant to invest large amounts of money in a single motion picture, so it seems that \"Titanic\" did achieve something after all.'] - negative\n",
      "2) [\"I love Ashley Judd and think all of her movies are great. Ruby<br /><br />in Paradise is one of her best. It is a very understated movie that you really have to watch close to appreciate it. A story of a woman trying to make it on her own and refusing to give in to temptations that would make her life easy. Some of her movies such as Kiss The Girls and Time to Kill probably did better at the box office and video rentals. They were very good movies<br /><br />also, but take the time to really look at Ruby and I think you will agree it is one of Ashley's Best.<br /><br />\"] - positive\n",
      "3) [\"This film takes you on one family's impossible journey, and makes you feel every step of their odyssey. Beautifully acted and photographed, heartbreakingly real. Its last line, with its wistful hope, is one of the more powerful in memory.\"] - positive\n",
      "4) ['I like the movie. Twisted Desire had Jeremy Jordan,one of my favorite and one of the cutest actors ever. Melissa Joan Hart is a good actress. I\\'ve seen most of her movies but all of Jeremy Jordan\\'s. The thing i dislike about Twisted Desire is when \"Nick\" gets arrested and \"Jennifer\" rats him out. Twisted Desire is my second favorite movie. My first is The Goonies. But i still love Jeremy Jordan.'] - positive\n",
      "5) ['From a plot and movement standpoint, this movie was terrible. I found myself looking at the clock in theater hoping it would end and relieved after 80 long minutes that it mercifully did. Basically, five characters appear in the movie, A Son & Father, son\\'s girl friend, and two male characters of the son\\'s age who appear and then disappear without context or explanation. The movie and scenes seemed to suggest homo-eroticism, but nothing ever actually happened to reveal this one way or another. There were a couple of brilliant scenes. At the beginning of the movie, the son\\'s girl friend shows up at a window outside his room and they engage in an odd conversation. The photography and acting lent an incredible seductiveness to the interaction between the two, ending with her admitting to having another man who was \"older\". End of that story.'] - negative\n",
      "6) ['There are very few movies that are so funny as this one. I was lucky enough to watch this movie at a theater \"reserved\" for movie buffs like me, so it was not so embarrassing sitting there laughing till my jaw was completely sore and my shirt sleeves were all wet from drying my eyes...<br /><br />At times the story was a bit \"slow\", but that is perhaps for the best - a bit of rest in-between the rolling amongst the aisles (I nearly fell out of the seat...) was most welcome.'] - positive\n",
      "7) ['Although the beginning of the movie in New York takes too long, the movie is a must see for people who like this genre. When Hannah goes to Berlin to visit the older woman who helped her mother during the war, the movie gets much much better.The movie is a bit like The Pianist, can not really be compared.'] - positive\n",
      "8) ['Ostensibly this is a Z-grade DTV horror film.<br /><br />But with lines like :<br /><br />\"It\\'s easy to die, I have, many times\"<br /><br />and<br /><br />\"Why are you reading that book ?\" \"Because it makes the plot more interesting\"<br /><br />and<br /><br />\"You made your way in here, now you can make your way out again !\" (after he leads a man into the basement)<br /><br />(and take a listen to what they chant)<br /><br />- it\\'s not that clear what this film, made in the era known for post-structuralism, is actually about, or whether its just bad film-making. The acting is atrocious, but some actors I know, so are they hamming it up ?<br /><br />An old house, cut obviously with a contemporary dwelling, is the site of murders. A (bad) film is made in the grounds and the story replays again.'] - negative\n",
      "9) [\"Anyone who visited drive-ins in the 1950s, 60s, and 70s, must have seen a film or two by American International Pictures, a distributor that resembled 1980s giant Cannon Films. Wherever movie-goers ventured, AIP would be right there to supply the latest en vogue titles - in the 50s came horror movies like 'Voodoo Woman' and 'The Undead;' in the 60s were Frankie Avalon-Annette Funicello beach comedies and biker flicks like 'The Glory Stompers;' and into the 70s, AIP churned out grindhouse-level trash like 'Cannibal Girls' and 'Sugar Hill.'<br /><br />'Dillinger,' released in 1973, is one of the more 'highbrow' AIP efforts that capture the true spirit of drive-in film-making; it is one of those uneven, over-the-top flicks that satisfied the masses' thirst for entertainment, craftsmanship and common sense be damned. On the whole, 'Dillinger' is typical for its era: entertaining and worth a couple of hours, but certainly not memorable. Heavy on action and short on both acting and historical fact, 'Dillinger' was a fair effort by screenwriter-director John Milius ('Magnum Force') but certainly left room for improvement in his extensive career.<br /><br />The 109-minute 'Dillinger' - epic for AIP's scope - follows the quest of FBI Midwest chief Melvin Purvis, played by Academy Award winner Ben Johnson. Purvis was the investigator who sought revenge for four FBI agents killed in a 1933 Kansas City ambush that helped gangster Frank Nash to escape justice. At large were the men who supposedly plotted that breakout, including expert bankrobber John Dillinger (Warren Oates), Pretty Boy Floyd (Steve Kanaly), and psychopath Baby Face Nelson (Richard Dreyfuss). Dillinger eventually joined forces with Floyd and Nelson, taking along Homer Van Meter (Harry Dean Stanton) and Harry Pierpont (Geoffrey Lewis). He also hooked up with Billie Frechette (Michelle Phillips), a prostitute of French and Indian extraction. While taking place over several months in 1933-4, 'Dillinger' is basically a chase film, with Purvis's entourage looking to run down and kill off the men wanted by J. Edgar Hoover.<br /><br />'Dillinger' has a documentary feel, listing dates and places while Johnson supplies loose narrative as Purvis. Milius keeps an honest Depression look, using authentic fashion, cars, weapons, and buildings; he also sprinkles around black-and-white photography and stock footage of gangster shootouts. The film is never boring, moving at a quick, if haphazard, pace. The action scenes are Dillinger's strongpoint, edited competently by Fred Feitshans Jr in his last professional effort. Thousands of blank ammunition rounds must have been used to make this film, not to mention pounds of explosives. This film is certainly not for the squeamish, with people getting shot and dropping dead all over the place. The violence, while gratuitous, brings some understanding of the mayhem that organized crime dumped on American life.<br /><br />This film never transcends its exploitation status, however, because the needed writing just isn't there. John Milius, somewhat overrated as a filmmaker, places way too much emphasis on action. The action scenes (mostly blood-filled shootouts) are impressive and comparable with any major crime film of its era, including 1967's 'Bonnie and Clyde.' But we simply don't get to know much about Dillinger and his gang members as people; the vital relationship that develops between Dillinger and Frechette is barely touched upon, with the pair meeting in a bar during one scene and cavorting as lovers just ten minutes afterward. Melvin Purvis also seems to wander in and out of the storyline, becoming a prominent figure only when Milius needs to keep the film from unraveling. All too often, the film takes on a shoot-'em-up persona when its characters could have been explored in detail.<br /><br />Aside from this, the picture's main crime is ignorance of historical fact. While many say that 'Dillinger' is just a film, it's films such as this one that create fables and make them permanent. Those with knowledge of gangster history will point out that John Dillinger was not the last of his ring to die, as Milius's screenplay and the film's documentary style encourage us to believe. In fact, Dillinger died before Baby Face Nelson and Homer Van Meter; he also was said not to be carrying a gun on the night of his death, nor did he have Billie Frechette in tow. While these inaccuracies might make for high drama, there is no reason why Milius couldn't have stayed with the facts and written a great story around them.<br /><br />Warren Oates's performance as Dillinger is quite good, although he sometimes looks unconvincing. Oates is humorous and nicely portrays how Dillinger became consumed by his larger-than-life image in the American press; however, we never really feel the menace he invoked in his lifetime. Ben Johnson gives some life to Purvis, suave but rather flat. Michelle Phillips brings emotion to the Billie Frechette character and it's really too bad that Milius's screenplay didn't flesh out her relationship with Dillinger. We never learn what drew her to a cold-blooded killer, other than the stereotype of an easy-going girl who is attracted to men of danger. The supporting roles with Kanaly, Dreyfuss, Stanton, Lewis, and a briefly-appearing Cloris Leachman, are acceptable for such talent.<br /><br />As a piece of 1970s exploitation, 'Dillinger' appears doomed to retail bargain bins, which is exactly where I picked up MGM's DVD release for $4.99. The film is nicely presented in widescreen (a must for drive-in flicks) with subtitles in French and Spanish. Dillinger's theatrical trailer is supplied as a lone extra. Largely forgotten except by gangster movie fans and drive-in enthusiasts, the film doesn't really call for much else in way of supplementary material. For fans of the genre, it's certainly worth checking out.<br /><br />** out of 4<br /><br />Roving Reviewer - www.geocities.com/paul_johnr\"] - negative\n",
      "10) ['CREEPSHOW 2 is the ill-fated sequel to the George Romero\\'s (overrated) original, CREEPSHOW. Any sequel following a Romero film that\\'s not directed by Romero himself has got some large shoes to fill, mostly because of the Romero fans out there who think he\\'s God. I didn\\'t care much for the first film and funny enough, I didn\\'t care much for the sequel. The film series had so much potential but it was short-lived because both films were less than stellar. <br /><br />The biggest problem with CREEPSHOW 2 was that it only had three stories (excluding the in-between story), and because the first story sucked beyond belief, it only left the chance for almost half of the movie to be *really* good. I saw CS 2 at the movies and the first segment was a real groaner. Anything dramatic with George \\'I can\\'t act\\' Kennedy is automatically doomed and the Indian Statue story was too hokey and simply didn\\'t belong in this sequel. So after a really trite and dull start, there were only two other stories left to reverse the fiasco of the aborted beginning and unfortunately the two other stories weren\\'t great enough for me to forget the first story. THE RAFT and THE HITCHHIKER are moderately successful, moderately because though the two other segments have their moments, they still sorta fall flat. The two last stories are basically stretched out for too long. It\\'s not that I wanted the stories to happen at a dizzying pace and end fast, but both good ideas found within those stories were sorta nullified by the fact that they were slow and padded and eventually fell flat when the segments needed to be more energized, more erratic and with punchier endings. Also, if the two last stories hadn\\'t been stretched out to pad the movie or had all three segments been more brief with better editing and direction, they could have added a much needed fourth story to the bunch. Having only three padded segments made for a boring feast.<br /><br />The acting and writing in both THE RAFT and THE HITCHHIKER segments are from awful to good. I like Lois Chiles in the last segment. It\\'s probably her best moment on screen aside from her role as Bond Girl Holly Goodhead in MOONRAKER and in DEATH ON THE NILE. But even her role is difficult to understand at times because of the serviceable direction and the unfocused story. Are we supposed to hate her or sympathize with her? Are we supposed to sympathize with the annoying hitchhiker? If the hitchhiker\\'s body was found by other people on the road, what was he when he attacked Chiles? Was he a ghost or a zombie or what? How did the body eventually left the presence of the other people who found him dead in order to attack Chiles? The whole thing is not very clear, even for a supernatural story. And the ending is rather dull and uneventful.<br /><br />As for the infamous THE RAFT story, well, the acting is mostly on the awful side and none of the characters are sympathetic or interesting. The characters would have been more interesting had the actors played themselves. None of the actors are convincing in their specific roles. Paul Satterfield looks smarter than the dumb jock he\\'s playing and the actress who plays his girlfriend is not very convincing as the typical bitchy slut. She seems too timid. The same could be said with the two others who play the \"plain\" teens. The idea of the killer oil slick is interesting and creepy but not well executed. There should have been a fifth character to the story, maybe a homeless man or a ranger who lurks around the lake and knows about the oil slick and could have been the watery monster\\'s alter ego of sorts. As creepy as the oil slick is, it doesn\\'t make for a compelling \"character\". And the way the story ends, everything seems pointless. No punch to it whatsoever.<br /><br />Except for the few titillating aspects which always seems to make boring things worthwhile, seeing CREEPSHOW 2 at a theater was basically a waste of money and time. CS 2 is more rental material than something you pay to see on the big screen.'] - negative\n"
     ]
    }
   ],
   "source": [
    "j=1\n",
    "for i,k in zip(a.Text_Review,a.Sentiment):\n",
    "    print(f'{j}) {(i)} - {k}')\n",
    "    j+=1"
   ]
  },
  {
   "cell_type": "markdown",
   "metadata": {},
   "source": [
    "###  Observation for Cleaning \n",
    "##### The only thing seen from the ten random sqmples that had to be cleaned is the \\<br \\/> and also the [ ] and \" \" "
   ]
  },
  {
   "cell_type": "markdown",
   "metadata": {},
   "source": [
    "## Cleaning "
   ]
  },
  {
   "cell_type": "code",
   "execution_count": 9,
   "metadata": {},
   "outputs": [],
   "source": [
    "def clean_txt(text):\n",
    "    text = re.sub('<br />','',text)\n",
    "    text = text.replace('[\"',\"\")\n",
    "    text = text.replace('\"]',\"\")\n",
    "    text = text.replace(\"['\",\"\")\n",
    "    text = text.replace(\"']\",\"\")\n",
    "    text = text.lower()\n",
    "    \n",
    "    \n",
    "    # text = re.sub(r'\"','',text)\n",
    "    # text = re.sub(r'\"','',text)\n",
    "    # text = re.sub(r'[','',text)\n",
    "    # text = re.sub(r']','',text)\n",
    "    return text"
   ]
  },
  {
   "cell_type": "code",
   "execution_count": 10,
   "metadata": {},
   "outputs": [],
   "source": [
    "train_data.Text_Review = train_data['Text_Review'].apply(clean_txt)\n",
    "a = train_data.sample(10)"
   ]
  },
  {
   "cell_type": "code",
   "execution_count": 11,
   "metadata": {},
   "outputs": [
    {
     "data": {
      "text/html": [
       "<div>\n",
       "<style scoped>\n",
       "    .dataframe tbody tr th:only-of-type {\n",
       "        vertical-align: middle;\n",
       "    }\n",
       "\n",
       "    .dataframe tbody tr th {\n",
       "        vertical-align: top;\n",
       "    }\n",
       "\n",
       "    .dataframe thead th {\n",
       "        text-align: right;\n",
       "    }\n",
       "</style>\n",
       "<table border=\"1\" class=\"dataframe\">\n",
       "  <thead>\n",
       "    <tr style=\"text-align: right;\">\n",
       "      <th></th>\n",
       "      <th>Text_Review</th>\n",
       "      <th>Sentiment</th>\n",
       "    </tr>\n",
       "  </thead>\n",
       "  <tbody>\n",
       "    <tr>\n",
       "      <th>17492</th>\n",
       "      <td>i saw this film in its premier week in 1975. i...</td>\n",
       "      <td>negative</td>\n",
       "    </tr>\n",
       "    <tr>\n",
       "      <th>13923</th>\n",
       "      <td>sheesh! what a dreadful movie. dodgy camera wo...</td>\n",
       "      <td>negative</td>\n",
       "    </tr>\n",
       "    <tr>\n",
       "      <th>9831</th>\n",
       "      <td>it's not well shot, well written or well acted...</td>\n",
       "      <td>positive</td>\n",
       "    </tr>\n",
       "    <tr>\n",
       "      <th>7474</th>\n",
       "      <td>yes, the cameras were in the right place at th...</td>\n",
       "      <td>positive</td>\n",
       "    </tr>\n",
       "    <tr>\n",
       "      <th>1074</th>\n",
       "      <td>i knew about but had never seen grey gardens, ...</td>\n",
       "      <td>positive</td>\n",
       "    </tr>\n",
       "    <tr>\n",
       "      <th>18946</th>\n",
       "      <td>that\\'s right! under 9 on average, but maybe u...</td>\n",
       "      <td>negative</td>\n",
       "    </tr>\n",
       "    <tr>\n",
       "      <th>24921</th>\n",
       "      <td>after watching about half of this movie i noti...</td>\n",
       "      <td>negative</td>\n",
       "    </tr>\n",
       "    <tr>\n",
       "      <th>18126</th>\n",
       "      <td>damn, i thought i'd seen some bad westerns. ca...</td>\n",
       "      <td>negative</td>\n",
       "    </tr>\n",
       "    <tr>\n",
       "      <th>15699</th>\n",
       "      <td>this film is not funny. it is not entertaining...</td>\n",
       "      <td>negative</td>\n",
       "    </tr>\n",
       "    <tr>\n",
       "      <th>4209</th>\n",
       "      <td>the invisible ray is an excellent display of b...</td>\n",
       "      <td>positive</td>\n",
       "    </tr>\n",
       "  </tbody>\n",
       "</table>\n",
       "</div>"
      ],
      "text/plain": [
       "                                             Text_Review Sentiment\n",
       "17492  i saw this film in its premier week in 1975. i...  negative\n",
       "13923  sheesh! what a dreadful movie. dodgy camera wo...  negative\n",
       "9831   it's not well shot, well written or well acted...  positive\n",
       "7474   yes, the cameras were in the right place at th...  positive\n",
       "1074   i knew about but had never seen grey gardens, ...  positive\n",
       "18946  that\\'s right! under 9 on average, but maybe u...  negative\n",
       "24921  after watching about half of this movie i noti...  negative\n",
       "18126  damn, i thought i'd seen some bad westerns. ca...  negative\n",
       "15699  this film is not funny. it is not entertaining...  negative\n",
       "4209   the invisible ray is an excellent display of b...  positive"
      ]
     },
     "execution_count": 11,
     "metadata": {},
     "output_type": "execute_result"
    }
   ],
   "source": [
    "a"
   ]
  },
  {
   "cell_type": "markdown",
   "metadata": {},
   "source": [
    "### Feature Extraction "
   ]
  },
  {
   "cell_type": "code",
   "execution_count": 12,
   "metadata": {},
   "outputs": [],
   "source": [
    "from nltk.tokenize import RegexpTokenizer\n",
    "from nltk.stem.porter import PorterStemmer\n",
    "from nltk.corpus import stopwords"
   ]
  },
  {
   "cell_type": "code",
   "execution_count": 13,
   "metadata": {},
   "outputs": [
    {
     "name": "stderr",
     "output_type": "stream",
     "text": [
      "[nltk_data] Downloading package stopwords to C:\\Users\\HRITHIK\n",
      "[nltk_data]     REDDY\\AppData\\Roaming\\nltk_data...\n",
      "[nltk_data]   Package stopwords is already up-to-date!\n"
     ]
    },
    {
     "data": {
      "text/plain": [
       "True"
      ]
     },
     "execution_count": 13,
     "metadata": {},
     "output_type": "execute_result"
    }
   ],
   "source": [
    "import nltk\n",
    "nltk.download('stopwords')"
   ]
  },
  {
   "cell_type": "code",
   "execution_count": 16,
   "metadata": {},
   "outputs": [],
   "source": [
    "tokenizer = RegexpTokenizer(r'\\w+')\n",
    "stemmer = PorterStemmer()\n",
    "eng_stopwords = set(stopwords.words('english'))"
   ]
  },
  {
   "cell_type": "code",
   "execution_count": 17,
   "metadata": {},
   "outputs": [],
   "source": [
    "def feature_extract(text):\n",
    "    # tokenize \n",
    "    tokens = tokenizer.tokenize(text)\n",
    "    # Stop word Removal\n",
    "    new_tokens = [token for token in tokens if token not in eng_stopwords]\n",
    "    # Stemming \n",
    "    stemmed_tokens =[stemmer.stem(i) for i in new_tokens]\n",
    "    clean_sen = \" \".join(stemmed_tokens)\n",
    "    return clean_sen "
   ]
  },
  {
   "cell_type": "code",
   "execution_count": 18,
   "metadata": {},
   "outputs": [
    {
     "data": {
      "text/plain": [
       "0        bromwel  high  cartoon  comedi  ran  time  pro...\n",
       "1        homeless  houseless  georg  carlin  state  iss...\n",
       "2        brilliant  act  lesley  ann  warren  best  dra...\n",
       "3        easili  underr  film  inn  brook  cannon  sure...\n",
       "4        typic  mel  brook  film  much  less  slapstick...\n",
       "                               ...                        \n",
       "24979    toward  end  movi  felt  technic  felt  like  ...\n",
       "24980    kind  movi  enemi  content  watch  time  blood...\n",
       "24981    saw  descent  last  night  stockholm  film  fe...\n",
       "24982    film  pick  pound  turn  rather  good  23rd  c...\n",
       "24983    one  dumbest  film  ever  seen  rip  nearli  e...\n",
       "Name: Text_Review, Length: 24984, dtype: object"
      ]
     },
     "execution_count": 18,
     "metadata": {},
     "output_type": "execute_result"
    }
   ],
   "source": [
    "a = train_data['Text_Review'].apply(feature_extract)\n",
    "a"
   ]
  },
  {
   "cell_type": "markdown",
   "metadata": {},
   "source": [
    "#### Feature Engineering"
   ]
  },
  {
   "cell_type": "code",
   "execution_count": 21,
   "metadata": {},
   "outputs": [],
   "source": [
    "from sklearn.feature_extraction.text import CountVectorizer\n",
    "cv = CountVectorizer(ngram_range=(1,6))"
   ]
  },
  {
   "cell_type": "code",
   "execution_count": 24,
   "metadata": {},
   "outputs": [],
   "source": [
    "b = cv.fit_transform(a)"
   ]
  },
  {
   "cell_type": "code",
   "execution_count": 49,
   "metadata": {},
   "outputs": [],
   "source": [
    "train_data['vector_text'] = cv.transform(a).todense"
   ]
  },
  {
   "cell_type": "code",
   "execution_count": 50,
   "metadata": {},
   "outputs": [
    {
     "data": {
      "text/plain": [
       "<bound method spmatrix.todense of <24984x1591107 sparse matrix of type '<class 'numpy.int64'>'\n",
       "\twith 5283118 stored elements in Compressed Sparse Row format>>"
      ]
     },
     "execution_count": 50,
     "metadata": {},
     "output_type": "execute_result"
    }
   ],
   "source": [
    "train_data['vector_text'][1]"
   ]
  },
  {
   "cell_type": "code",
   "execution_count": 44,
   "metadata": {},
   "outputs": [],
   "source": [
    "class_encode = {'positive':1,'negative':0}\n",
    "X_train = train_data['vector_text']\n",
    "y_train = train_data['Sentiment'].apply(lambda x: class_encode[x])"
   ]
  },
  {
   "cell_type": "code",
   "execution_count": 47,
   "metadata": {},
   "outputs": [],
   "source": [
    "from sklearn.naive_bayes import MultinomialNB\n",
    "MNB = MultinomialNB()"
   ]
  },
  {
   "cell_type": "code",
   "execution_count": 48,
   "metadata": {},
   "outputs": [
    {
     "ename": "TypeError",
     "evalue": "float() argument must be a string or a number, not 'method'",
     "output_type": "error",
     "traceback": [
      "\u001b[1;31m---------------------------------------------------------------------------\u001b[0m",
      "\u001b[1;31mTypeError\u001b[0m                                 Traceback (most recent call last)",
      "\u001b[1;32mC:\\Users\\HRITHI~1\\AppData\\Local\\Temp/ipykernel_9704/4271820328.py\u001b[0m in \u001b[0;36m<module>\u001b[1;34m\u001b[0m\n\u001b[1;32m----> 1\u001b[1;33m \u001b[0mMNB\u001b[0m\u001b[1;33m.\u001b[0m\u001b[0mfit\u001b[0m\u001b[1;33m(\u001b[0m\u001b[0mX_train\u001b[0m\u001b[1;33m,\u001b[0m\u001b[0my_train\u001b[0m\u001b[1;33m)\u001b[0m\u001b[1;33m\u001b[0m\u001b[1;33m\u001b[0m\u001b[0m\n\u001b[0m",
      "\u001b[1;32mD:\\Computer science\\lib\\site-packages\\sklearn\\naive_bayes.py\u001b[0m in \u001b[0;36mfit\u001b[1;34m(self, X, y, sample_weight)\u001b[0m\n\u001b[0;32m    661\u001b[0m             \u001b[0mReturns\u001b[0m \u001b[0mthe\u001b[0m \u001b[0minstance\u001b[0m \u001b[0mitself\u001b[0m\u001b[1;33m.\u001b[0m\u001b[1;33m\u001b[0m\u001b[1;33m\u001b[0m\u001b[0m\n\u001b[0;32m    662\u001b[0m         \"\"\"\n\u001b[1;32m--> 663\u001b[1;33m         \u001b[0mX\u001b[0m\u001b[1;33m,\u001b[0m \u001b[0my\u001b[0m \u001b[1;33m=\u001b[0m \u001b[0mself\u001b[0m\u001b[1;33m.\u001b[0m\u001b[0m_check_X_y\u001b[0m\u001b[1;33m(\u001b[0m\u001b[0mX\u001b[0m\u001b[1;33m,\u001b[0m \u001b[0my\u001b[0m\u001b[1;33m)\u001b[0m\u001b[1;33m\u001b[0m\u001b[1;33m\u001b[0m\u001b[0m\n\u001b[0m\u001b[0;32m    664\u001b[0m         \u001b[0m_\u001b[0m\u001b[1;33m,\u001b[0m \u001b[0mn_features\u001b[0m \u001b[1;33m=\u001b[0m \u001b[0mX\u001b[0m\u001b[1;33m.\u001b[0m\u001b[0mshape\u001b[0m\u001b[1;33m\u001b[0m\u001b[1;33m\u001b[0m\u001b[0m\n\u001b[0;32m    665\u001b[0m \u001b[1;33m\u001b[0m\u001b[0m\n",
      "\u001b[1;32mD:\\Computer science\\lib\\site-packages\\sklearn\\naive_bayes.py\u001b[0m in \u001b[0;36m_check_X_y\u001b[1;34m(self, X, y, reset)\u001b[0m\n\u001b[0;32m    521\u001b[0m     \u001b[1;32mdef\u001b[0m \u001b[0m_check_X_y\u001b[0m\u001b[1;33m(\u001b[0m\u001b[0mself\u001b[0m\u001b[1;33m,\u001b[0m \u001b[0mX\u001b[0m\u001b[1;33m,\u001b[0m \u001b[0my\u001b[0m\u001b[1;33m,\u001b[0m \u001b[0mreset\u001b[0m\u001b[1;33m=\u001b[0m\u001b[1;32mTrue\u001b[0m\u001b[1;33m)\u001b[0m\u001b[1;33m:\u001b[0m\u001b[1;33m\u001b[0m\u001b[1;33m\u001b[0m\u001b[0m\n\u001b[0;32m    522\u001b[0m         \u001b[1;34m\"\"\"Validate X and y in fit methods.\"\"\"\u001b[0m\u001b[1;33m\u001b[0m\u001b[1;33m\u001b[0m\u001b[0m\n\u001b[1;32m--> 523\u001b[1;33m         \u001b[1;32mreturn\u001b[0m \u001b[0mself\u001b[0m\u001b[1;33m.\u001b[0m\u001b[0m_validate_data\u001b[0m\u001b[1;33m(\u001b[0m\u001b[0mX\u001b[0m\u001b[1;33m,\u001b[0m \u001b[0my\u001b[0m\u001b[1;33m,\u001b[0m \u001b[0maccept_sparse\u001b[0m\u001b[1;33m=\u001b[0m\u001b[1;34m\"csr\"\u001b[0m\u001b[1;33m,\u001b[0m \u001b[0mreset\u001b[0m\u001b[1;33m=\u001b[0m\u001b[0mreset\u001b[0m\u001b[1;33m)\u001b[0m\u001b[1;33m\u001b[0m\u001b[1;33m\u001b[0m\u001b[0m\n\u001b[0m\u001b[0;32m    524\u001b[0m \u001b[1;33m\u001b[0m\u001b[0m\n\u001b[0;32m    525\u001b[0m     \u001b[1;32mdef\u001b[0m \u001b[0m_update_class_log_prior\u001b[0m\u001b[1;33m(\u001b[0m\u001b[0mself\u001b[0m\u001b[1;33m,\u001b[0m \u001b[0mclass_prior\u001b[0m\u001b[1;33m=\u001b[0m\u001b[1;32mNone\u001b[0m\u001b[1;33m)\u001b[0m\u001b[1;33m:\u001b[0m\u001b[1;33m\u001b[0m\u001b[1;33m\u001b[0m\u001b[0m\n",
      "\u001b[1;32mD:\\Computer science\\lib\\site-packages\\sklearn\\base.py\u001b[0m in \u001b[0;36m_validate_data\u001b[1;34m(self, X, y, reset, validate_separately, **check_params)\u001b[0m\n\u001b[0;32m    579\u001b[0m                 \u001b[0my\u001b[0m \u001b[1;33m=\u001b[0m \u001b[0mcheck_array\u001b[0m\u001b[1;33m(\u001b[0m\u001b[0my\u001b[0m\u001b[1;33m,\u001b[0m \u001b[1;33m**\u001b[0m\u001b[0mcheck_y_params\u001b[0m\u001b[1;33m)\u001b[0m\u001b[1;33m\u001b[0m\u001b[1;33m\u001b[0m\u001b[0m\n\u001b[0;32m    580\u001b[0m             \u001b[1;32melse\u001b[0m\u001b[1;33m:\u001b[0m\u001b[1;33m\u001b[0m\u001b[1;33m\u001b[0m\u001b[0m\n\u001b[1;32m--> 581\u001b[1;33m                 \u001b[0mX\u001b[0m\u001b[1;33m,\u001b[0m \u001b[0my\u001b[0m \u001b[1;33m=\u001b[0m \u001b[0mcheck_X_y\u001b[0m\u001b[1;33m(\u001b[0m\u001b[0mX\u001b[0m\u001b[1;33m,\u001b[0m \u001b[0my\u001b[0m\u001b[1;33m,\u001b[0m \u001b[1;33m**\u001b[0m\u001b[0mcheck_params\u001b[0m\u001b[1;33m)\u001b[0m\u001b[1;33m\u001b[0m\u001b[1;33m\u001b[0m\u001b[0m\n\u001b[0m\u001b[0;32m    582\u001b[0m             \u001b[0mout\u001b[0m \u001b[1;33m=\u001b[0m \u001b[0mX\u001b[0m\u001b[1;33m,\u001b[0m \u001b[0my\u001b[0m\u001b[1;33m\u001b[0m\u001b[1;33m\u001b[0m\u001b[0m\n\u001b[0;32m    583\u001b[0m \u001b[1;33m\u001b[0m\u001b[0m\n",
      "\u001b[1;32mD:\\Computer science\\lib\\site-packages\\sklearn\\utils\\validation.py\u001b[0m in \u001b[0;36mcheck_X_y\u001b[1;34m(X, y, accept_sparse, accept_large_sparse, dtype, order, copy, force_all_finite, ensure_2d, allow_nd, multi_output, ensure_min_samples, ensure_min_features, y_numeric, estimator)\u001b[0m\n\u001b[0;32m    962\u001b[0m         \u001b[1;32mraise\u001b[0m \u001b[0mValueError\u001b[0m\u001b[1;33m(\u001b[0m\u001b[1;34m\"y cannot be None\"\u001b[0m\u001b[1;33m)\u001b[0m\u001b[1;33m\u001b[0m\u001b[1;33m\u001b[0m\u001b[0m\n\u001b[0;32m    963\u001b[0m \u001b[1;33m\u001b[0m\u001b[0m\n\u001b[1;32m--> 964\u001b[1;33m     X = check_array(\n\u001b[0m\u001b[0;32m    965\u001b[0m         \u001b[0mX\u001b[0m\u001b[1;33m,\u001b[0m\u001b[1;33m\u001b[0m\u001b[1;33m\u001b[0m\u001b[0m\n\u001b[0;32m    966\u001b[0m         \u001b[0maccept_sparse\u001b[0m\u001b[1;33m=\u001b[0m\u001b[0maccept_sparse\u001b[0m\u001b[1;33m,\u001b[0m\u001b[1;33m\u001b[0m\u001b[1;33m\u001b[0m\u001b[0m\n",
      "\u001b[1;32mD:\\Computer science\\lib\\site-packages\\sklearn\\utils\\validation.py\u001b[0m in \u001b[0;36mcheck_array\u001b[1;34m(array, accept_sparse, accept_large_sparse, dtype, order, copy, force_all_finite, ensure_2d, allow_nd, ensure_min_samples, ensure_min_features, estimator)\u001b[0m\n\u001b[0;32m    744\u001b[0m                     \u001b[0marray\u001b[0m \u001b[1;33m=\u001b[0m \u001b[0marray\u001b[0m\u001b[1;33m.\u001b[0m\u001b[0mastype\u001b[0m\u001b[1;33m(\u001b[0m\u001b[0mdtype\u001b[0m\u001b[1;33m,\u001b[0m \u001b[0mcasting\u001b[0m\u001b[1;33m=\u001b[0m\u001b[1;34m\"unsafe\"\u001b[0m\u001b[1;33m,\u001b[0m \u001b[0mcopy\u001b[0m\u001b[1;33m=\u001b[0m\u001b[1;32mFalse\u001b[0m\u001b[1;33m)\u001b[0m\u001b[1;33m\u001b[0m\u001b[1;33m\u001b[0m\u001b[0m\n\u001b[0;32m    745\u001b[0m                 \u001b[1;32melse\u001b[0m\u001b[1;33m:\u001b[0m\u001b[1;33m\u001b[0m\u001b[1;33m\u001b[0m\u001b[0m\n\u001b[1;32m--> 746\u001b[1;33m                     \u001b[0marray\u001b[0m \u001b[1;33m=\u001b[0m \u001b[0mnp\u001b[0m\u001b[1;33m.\u001b[0m\u001b[0masarray\u001b[0m\u001b[1;33m(\u001b[0m\u001b[0marray\u001b[0m\u001b[1;33m,\u001b[0m \u001b[0morder\u001b[0m\u001b[1;33m=\u001b[0m\u001b[0morder\u001b[0m\u001b[1;33m,\u001b[0m \u001b[0mdtype\u001b[0m\u001b[1;33m=\u001b[0m\u001b[0mdtype\u001b[0m\u001b[1;33m)\u001b[0m\u001b[1;33m\u001b[0m\u001b[1;33m\u001b[0m\u001b[0m\n\u001b[0m\u001b[0;32m    747\u001b[0m             \u001b[1;32mexcept\u001b[0m \u001b[0mComplexWarning\u001b[0m \u001b[1;32mas\u001b[0m \u001b[0mcomplex_warning\u001b[0m\u001b[1;33m:\u001b[0m\u001b[1;33m\u001b[0m\u001b[1;33m\u001b[0m\u001b[0m\n\u001b[0;32m    748\u001b[0m                 raise ValueError(\n",
      "\u001b[1;32mD:\\Computer science\\lib\\site-packages\\pandas\\core\\series.py\u001b[0m in \u001b[0;36m__array__\u001b[1;34m(self, dtype)\u001b[0m\n\u001b[0;32m    855\u001b[0m               dtype='datetime64[ns]')\n\u001b[0;32m    856\u001b[0m         \"\"\"\n\u001b[1;32m--> 857\u001b[1;33m         \u001b[1;32mreturn\u001b[0m \u001b[0mnp\u001b[0m\u001b[1;33m.\u001b[0m\u001b[0masarray\u001b[0m\u001b[1;33m(\u001b[0m\u001b[0mself\u001b[0m\u001b[1;33m.\u001b[0m\u001b[0m_values\u001b[0m\u001b[1;33m,\u001b[0m \u001b[0mdtype\u001b[0m\u001b[1;33m)\u001b[0m\u001b[1;33m\u001b[0m\u001b[1;33m\u001b[0m\u001b[0m\n\u001b[0m\u001b[0;32m    858\u001b[0m \u001b[1;33m\u001b[0m\u001b[0m\n\u001b[0;32m    859\u001b[0m     \u001b[1;31m# ----------------------------------------------------------------------\u001b[0m\u001b[1;33m\u001b[0m\u001b[1;33m\u001b[0m\u001b[1;33m\u001b[0m\u001b[0m\n",
      "\u001b[1;31mTypeError\u001b[0m: float() argument must be a string or a number, not 'method'"
     ]
    }
   ],
   "source": [
    "MNB.fit(X_train,y_train)"
   ]
  }
 ],
 "metadata": {
  "interpreter": {
   "hash": "8040ec2ad0cff8d58f013f52648f683bec6c7eaf791b6d05a489d1a84c1a212f"
  },
  "kernelspec": {
   "display_name": "Python 3.9.6 64-bit",
   "language": "python",
   "name": "python3"
  },
  "language_info": {
   "codemirror_mode": {
    "name": "ipython",
    "version": 3
   },
   "file_extension": ".py",
   "mimetype": "text/x-python",
   "name": "python",
   "nbconvert_exporter": "python",
   "pygments_lexer": "ipython3",
   "version": "3.9.6"
  },
  "orig_nbformat": 4
 },
 "nbformat": 4,
 "nbformat_minor": 2
}
