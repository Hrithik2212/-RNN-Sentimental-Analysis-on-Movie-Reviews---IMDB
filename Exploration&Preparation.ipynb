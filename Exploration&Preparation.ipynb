{
 "cells": [
  {
   "cell_type": "markdown",
   "metadata": {},
   "source": [
    "# _*Exploration and Preparation*_"
   ]
  },
  {
   "cell_type": "code",
   "execution_count": 1,
   "metadata": {},
   "outputs": [],
   "source": [
    "import textblob as tb\n",
    "from wordcloud import WordCloud\n",
    "import re \n",
    "import pandas as pd\n",
    "import matplotlib.pyplot as plt\n",
    "import seaborn as sns "
   ]
  },
  {
   "cell_type": "markdown",
   "metadata": {},
   "source": [
    "### Description\n",
    "\n",
    "##### The core dataset contains 50,000 reviews of movies from IMDB split evenly into 25k train and 25k test sets. The overall distribution of labels is balanced (25k pos and 25k neg)\n",
    "##### In the entire collection, no more than 30 reviews are allowed for any given movie because reviews for the same movie tend to have correlated ratings. Further, the train and test sets contain a disjoint set of movies, so no significant performance is obtained by memorizing movie-unique terms and their associated with observed labels.  In the labeled train/test sets, a negative review has a score <= 4 out of 10, and a positive review has a score >= 7 out of 10. Thus reviews with more neutral ratings are not included in the train/test sets."
   ]
  },
  {
   "cell_type": "markdown",
   "metadata": {},
   "source": [
    "### Exploration "
   ]
  },
  {
   "cell_type": "code",
   "execution_count": 47,
   "metadata": {},
   "outputs": [
    {
     "name": "stdout",
     "output_type": "stream",
     "text": [
      "<class 'pandas.core.frame.DataFrame'>\n",
      "RangeIndex: 24984 entries, 0 to 24983\n",
      "Data columns (total 3 columns):\n",
      " #   Column       Non-Null Count  Dtype \n",
      "---  ------       --------------  ----- \n",
      " 0   Unnamed: 0   24984 non-null  int64 \n",
      " 1   Text_Review  24984 non-null  object\n",
      " 2   Sentiment    24984 non-null  object\n",
      "dtypes: int64(1), object(2)\n",
      "memory usage: 585.7+ KB\n"
     ]
    }
   ],
   "source": [
    "train_data = pd.read_csv('Train_reviews.csv')\n",
    "train_data.info()"
   ]
  },
  {
   "cell_type": "code",
   "execution_count": 48,
   "metadata": {},
   "outputs": [
    {
     "data": {
      "text/html": [
       "<div>\n",
       "<style scoped>\n",
       "    .dataframe tbody tr th:only-of-type {\n",
       "        vertical-align: middle;\n",
       "    }\n",
       "\n",
       "    .dataframe tbody tr th {\n",
       "        vertical-align: top;\n",
       "    }\n",
       "\n",
       "    .dataframe thead th {\n",
       "        text-align: right;\n",
       "    }\n",
       "</style>\n",
       "<table border=\"1\" class=\"dataframe\">\n",
       "  <thead>\n",
       "    <tr style=\"text-align: right;\">\n",
       "      <th></th>\n",
       "      <th>Unnamed: 0</th>\n",
       "      <th>Text_Review</th>\n",
       "      <th>Sentiment</th>\n",
       "    </tr>\n",
       "  </thead>\n",
       "  <tbody>\n",
       "    <tr>\n",
       "      <th>0</th>\n",
       "      <td>0</td>\n",
       "      <td>['Bromwell High is a cartoon comedy. It ran at...</td>\n",
       "      <td>positive</td>\n",
       "    </tr>\n",
       "    <tr>\n",
       "      <th>1</th>\n",
       "      <td>1</td>\n",
       "      <td>['Homelessness (or Houselessness as George Car...</td>\n",
       "      <td>positive</td>\n",
       "    </tr>\n",
       "    <tr>\n",
       "      <th>2</th>\n",
       "      <td>2</td>\n",
       "      <td>['Brilliant over-acting by Lesley Ann Warren. ...</td>\n",
       "      <td>positive</td>\n",
       "    </tr>\n",
       "    <tr>\n",
       "      <th>3</th>\n",
       "      <td>3</td>\n",
       "      <td>['This is easily the most underrated film inn ...</td>\n",
       "      <td>positive</td>\n",
       "    </tr>\n",
       "    <tr>\n",
       "      <th>4</th>\n",
       "      <td>4</td>\n",
       "      <td>['This is not the typical Mel Brooks film. It ...</td>\n",
       "      <td>positive</td>\n",
       "    </tr>\n",
       "  </tbody>\n",
       "</table>\n",
       "</div>"
      ],
      "text/plain": [
       "   Unnamed: 0                                        Text_Review Sentiment\n",
       "0           0  ['Bromwell High is a cartoon comedy. It ran at...  positive\n",
       "1           1  ['Homelessness (or Houselessness as George Car...  positive\n",
       "2           2  ['Brilliant over-acting by Lesley Ann Warren. ...  positive\n",
       "3           3  ['This is easily the most underrated film inn ...  positive\n",
       "4           4  ['This is not the typical Mel Brooks film. It ...  positive"
      ]
     },
     "execution_count": 48,
     "metadata": {},
     "output_type": "execute_result"
    }
   ],
   "source": [
    "train_data.head()"
   ]
  },
  {
   "cell_type": "code",
   "execution_count": 49,
   "metadata": {},
   "outputs": [
    {
     "name": "stdout",
     "output_type": "stream",
     "text": [
      "<class 'pandas.core.frame.DataFrame'>\n",
      "RangeIndex: 24984 entries, 0 to 24983\n",
      "Data columns (total 2 columns):\n",
      " #   Column       Non-Null Count  Dtype \n",
      "---  ------       --------------  ----- \n",
      " 0   Text_Review  24984 non-null  object\n",
      " 1   Sentiment    24984 non-null  object\n",
      "dtypes: object(2)\n",
      "memory usage: 390.5+ KB\n"
     ]
    }
   ],
   "source": [
    "train_data = train_data.drop('Unnamed: 0',axis=1)\n",
    "train_data.info()"
   ]
  },
  {
   "cell_type": "code",
   "execution_count": 50,
   "metadata": {},
   "outputs": [
    {
     "data": {
      "text/html": [
       "<div>\n",
       "<style scoped>\n",
       "    .dataframe tbody tr th:only-of-type {\n",
       "        vertical-align: middle;\n",
       "    }\n",
       "\n",
       "    .dataframe tbody tr th {\n",
       "        vertical-align: top;\n",
       "    }\n",
       "\n",
       "    .dataframe thead th {\n",
       "        text-align: right;\n",
       "    }\n",
       "</style>\n",
       "<table border=\"1\" class=\"dataframe\">\n",
       "  <thead>\n",
       "    <tr style=\"text-align: right;\">\n",
       "      <th></th>\n",
       "      <th>Text_Review</th>\n",
       "      <th>Sentiment</th>\n",
       "    </tr>\n",
       "  </thead>\n",
       "  <tbody>\n",
       "    <tr>\n",
       "      <th>4815</th>\n",
       "      <td>['I am so upset that ABC is giving up on yet a...</td>\n",
       "      <td>positive</td>\n",
       "    </tr>\n",
       "    <tr>\n",
       "      <th>22927</th>\n",
       "      <td>[\"This movie was just plain bad. Just about ev...</td>\n",
       "      <td>negative</td>\n",
       "    </tr>\n",
       "    <tr>\n",
       "      <th>16267</th>\n",
       "      <td>[\"this film tries to be immensely clever, and ...</td>\n",
       "      <td>negative</td>\n",
       "    </tr>\n",
       "    <tr>\n",
       "      <th>23608</th>\n",
       "      <td>['I thought I read somewhere that this was the...</td>\n",
       "      <td>negative</td>\n",
       "    </tr>\n",
       "    <tr>\n",
       "      <th>15595</th>\n",
       "      <td>['Lorne Michaels once again proves that he has...</td>\n",
       "      <td>negative</td>\n",
       "    </tr>\n",
       "    <tr>\n",
       "      <th>14098</th>\n",
       "      <td>['Recap: Doctor Markov has developed a new the...</td>\n",
       "      <td>negative</td>\n",
       "    </tr>\n",
       "    <tr>\n",
       "      <th>13208</th>\n",
       "      <td>[\"The finale of the Weissmuller Tarzan movies ...</td>\n",
       "      <td>negative</td>\n",
       "    </tr>\n",
       "    <tr>\n",
       "      <th>5070</th>\n",
       "      <td>['This movie of 370 minutes was aired by the I...</td>\n",
       "      <td>positive</td>\n",
       "    </tr>\n",
       "    <tr>\n",
       "      <th>10964</th>\n",
       "      <td>['\"Der Todesking\"-Jorg Buttgereit\\'s second fu...</td>\n",
       "      <td>positive</td>\n",
       "    </tr>\n",
       "    <tr>\n",
       "      <th>22749</th>\n",
       "      <td>[\"'Anita and Me' is a drama about growing up i...</td>\n",
       "      <td>negative</td>\n",
       "    </tr>\n",
       "  </tbody>\n",
       "</table>\n",
       "</div>"
      ],
      "text/plain": [
       "                                             Text_Review Sentiment\n",
       "4815   ['I am so upset that ABC is giving up on yet a...  positive\n",
       "22927  [\"This movie was just plain bad. Just about ev...  negative\n",
       "16267  [\"this film tries to be immensely clever, and ...  negative\n",
       "23608  ['I thought I read somewhere that this was the...  negative\n",
       "15595  ['Lorne Michaels once again proves that he has...  negative\n",
       "14098  ['Recap: Doctor Markov has developed a new the...  negative\n",
       "13208  [\"The finale of the Weissmuller Tarzan movies ...  negative\n",
       "5070   ['This movie of 370 minutes was aired by the I...  positive\n",
       "10964  ['\"Der Todesking\"-Jorg Buttgereit\\'s second fu...  positive\n",
       "22749  [\"'Anita and Me' is a drama about growing up i...  negative"
      ]
     },
     "execution_count": 50,
     "metadata": {},
     "output_type": "execute_result"
    }
   ],
   "source": [
    "a = train_data.sample(10)\n",
    "a"
   ]
  },
  {
   "cell_type": "code",
   "execution_count": 51,
   "metadata": {},
   "outputs": [
    {
     "name": "stdout",
     "output_type": "stream",
     "text": [
      "1) ['I am so upset that ABC is giving up on yet another show that has the chance to be a real winner. This show is so good, the writing and storyline were great, an actual original idea for a show instead of another boring reality show. The casting was spectacular! Not only were the characters and actors right on, but these are a very talented set of actors. The concept and idea is really a new and cool idea for a TV show, many of us share this whole idea of \"connections\". I really love the characters of Steven, Laura, Whitney and Damien. But to be honest there is not one person connected to this show that I did not like, even those that only were in for a few episodes (Sheri Appleby for example). The acting and characters are so easy to like and so talented!!. I wish ABC had given this show more of a chance, and not interrupted the show midway, Also it was not advertised enough. Truly unfair!! to everyone!!. This show showed great promise. I for one will let ABC know how I feel and will keep sending emails to keep this show alive. Please join me, I know we can do it. It worked for Jerico. (By the way where is episode 13? I want that last show!). Please support this show and send emails to ABC,we can do it!!! This show is well worth it!!! PETITION ONLINE TO SAVE SIX DEGREES: http://www.PetitionOnline.com/gh1215/petition.html WE CAN DO IT!! SIGN THIS PETITION ASAP!!!'] - positive\n",
      "2) [\"This movie was just plain bad. Just about every cop movie clichÃ© is present and accounted for. Bad guy gets away? check. Partner? check. Wacky personality clash with partner? check. Rookie with something to prove? check. Rookie shows up grizzled veteran. check. About the only ones it didn't touch on were idiot shoot themselves in the foot and retirony but I guess they're saving those old chestnuts for Dooley's next outing. Add in the battle of the sexes with Girl Power along with tired old sight gags and banal overdone material like Dooley's prize car getting trashed all the time and you have the recipe for one really bad movie. Avoid this one at all costs.\"] - negative\n",
      "3) [\"this film tries to be immensely clever, and Tarantino-like <br /><br />before you try that though, you need solid filmic fundamentals. these include good sound, editing, set design etc...<br /><br />lets talk about the sound in this movie. absolutely atrocious. i have never been more distracted by a sound track, ever<br /><br />and before we talk about low budget, film made in Chile etc.. lets bear in mind that desent sound these days is far more achievable than it ever has been. anywhere. and more info on technique is available then ever before<br /><br />the sound in this movie is plain bad. the foley in particular is out of place and inappropriate throughout, the atmos is equally terrible. i heard at least four loud clicks during the movie, which are the result of poor sound editing. the sound inside cars is awful, the sound of car doors closing is awful. the sound of the lady singing is wrong. foley is either overboard, or simply not there like the sound person just got bored and gave up. the spaces are wrong. everything about it is wrong <br /><br />and yet, not letting limitations of creativity get in the way, at the same time the movie tries boldly to be clever. for example the sound of the aquarium is used in the following street scene. we hear sound when we're not supposed to. sound edits precede visual cuts. every trick in the book is used, and yet the foundations are just not there<br /><br />editing-wise we have scenes using heavy jump cuts, we have tinkering around with the time line etc etc etc, yawn. all of these techniques are imitated to a splendidly low standard <br /><br />overall the mix is crap, the sound is crap. and so, the film is crap. how can a movie with so many fundamental flaws be considered for awards and high praise? Chile's cinematic new wave? the best creative output that Chile has to offer? i hope not, and i think not.<br /><br />my theory is that Chile's more selective and better talent avoided this film like the plague maybe due to its risquÃ© content. equally, the film has likely received so much unwarranted critical acclaim from so called 'world-cinema' enthusiasts for the same grubby reasons. they likely revel in it's trashiness. of course film critics rarely pay attention to technical details and quality <br /><br />this film is rubbish. it's all mouth and no trousers and is never deserving of a 6.8 rating. the film has all the production quality of a cheap Tarantino, new wave inspired porno!\"] - negative\n",
      "4) ['I thought I read somewhere that this was the last Monogram production, but whether that\\'s true or not it doesn\\'t matter, because if it wasn\\'t, then it should have been. It\\'s a deadly dull affair starring John Carradine with some gray in his hair to make himself appear like an older scientist who is experimenting with the aid of his young apprentice (Robert Shayne) in bringing the dead back to life. Every time their subjects are revived, they seem to have a whitish face like marble as they are lying strapped to the laboratory table (big deal). Carradine manages to restore his faithful dog to life after it\\'s dead, and the mutt gains an unusual ability to walk through walls in a ghostlike fashion (wooooooooohhhh). That\\'s about all she wrote.<br /><br />For an ultra-cheap Monogram quickie, this thing at least actually utilizes a more fancy-schmancy lab setup than is usually allotted. The funniest running joke in the movie is that the \"older\" doctor Carradine constantly refers to his \"young\" assistant Shayne as \"m\\'boy\" when, in fact, Carradine was actually 40 and Shayne was 45 when they made this!'] - negative\n",
      "5) ['Lorne Michaels once again proves that he has absolutely no business producing movies.<br /><br />You\\'d think that after such dismal flicks \"Superstar\", \"Night at the Roxbury\", and \"Coneheads\", he\\'d start to get the notion that maybe he doesn\\'t know what he\\'s doing when it comes to movies (and many would argue that he doesn\\'t know what he\\'s doing when it comes to television, as well). Trying to make feature films out of skits that wore out their welcome the third time the were done on SNL makes no sense.<br /><br />I personally like Tim Meadows, and think that he would be great in the right movie. It\\'s a shame to see a talented guy wasted in a film that features unfunny after unfunny situation, and caps it all with a dreadfully bad song and dance scene. Any laughs here will be because the movie is so bad, not because it\\'s funny.<br /><br />Oh well, at least we can be thankful that there are many other tired SNL characters who will never have films done about them. It\\'s just too bad that this one made it to the big screen.'] - negative\n",
      "6) ['Recap: Doctor Markov has developed a new theory how to produce energy, knowledge that might unbalance the world. He keeps his knowledge coded and secret and desperately wants out of the Soviet Union. KGB on the other side desperately wants the new technology. So, they sets a scheme in motion. During a rescue attempt to free Markov, KGB steps in, takes Markov to a secret location and lures him to reveal his secret by saying they are in Sweden, and working for the UN. As a backup, KGB kidnaps Markov\\'s estranged daughter. CIA now send their best agents, a team of (Swedish?) Ninjas to thwart KGB and rescue Markov and his daughter.<br /><br />Comments: A cult movie that despite not being very good needs seeing. The movie is quite ambitious but lacking in many areas. First off is that it is very dark, probably to conceal locations and bad effects, that some scenes are hard to comprehend. You can\\'t see what is happening. The second thing that it is lacking is martial arts, despite being a ninja-movie. Sure there are some, of quite poor quality, but mostly the ninjas fires automatic guns or sets of explosions. The automatic guns pose a problem too as they seem to have a endless supply of ammunition. And the ninjas seem almost immune to bullets while Soviet guards die like flies.<br /><br />What does it have that speaks for it then? The idea and ambition foremost. Some actually, and especially for a Swedish movie, decent action-scenes albeit not of martial arts. Some nice slow-motion scenes and pretty much blood and gore. And some very interesting new weapons technology that makes the victims heart or brain explode. Mostly all parts that you look for in a B-movie.<br /><br />Because it definitely is a B-movie, no mistake could be made there. But if you expect it, and watch it like a B-movie, it is entertaining. But don\\'t forget, it is not only a B-movie it is set in the eighties. Some girls, for example, besides wearing... lets say \"interesting\" clothes, have lethal doses of eye shadow and makeup.<br /><br />In all, see for the cult status and the ambition. Enjoy it, and then forget it.<br /><br />4/10'] - negative\n",
      "7) [\"The finale of the Weissmuller Tarzan movies is a rather weak one. There are a few things that derail this film.<br /><br />First, Tarzan spends much of the film wearing floppy sandals. In my opinion, any footwear on Tarzan, whether it be sandals or boots as sometimes portrayed, takes away from the character, which is supposed to be anti-civilization and pro-jungle.<br /><br />Second, the character of Benji, as mentioned in a previous post, totally derails the movie as the comic foil. To me, his character is unnecessary to the film's plot.<br /><br />Also, while Weissmuller still cuts a commanding figure as Tarzan, it's apparent that he was not in his best shape. Although in his later Jungle Jim movies, his physique had improved somewhat from this film.<br /><br />The octopus battle is a terrific idea, but I think it should have been done in an earlier Weissmuller film when he was at his physical peak. Likewise, the battle, which takes only 30 seconds tops, would be much more thrilling if it was drawn out to 90 seconds to 2 minutes like the classic giant crocodile battle in Tarzan and His Mate.<br /><br />And while Brenda Joyce as Jane and Linda Christian as Mara are overwhelmingly pleasing to the eye, it doesn't manage to salvage this last Weissmuller film - a disappointing ending to a great character run.\"] - negative\n",
      "8) ['This movie of 370 minutes was aired by the Italian public television during the early seventies. It tells you the myth attributed to Homer of the Journey home of Odysseus after the Troy war. It is an epic story about the ancient Minoan and Mycenaean civilizations, told at list 500 years after those events toke place, around 1100 BC.<br /><br />This is a 1969 movie, so if you buy the DVD version you would find that the sound is just mono and there is no other language than Italian, even the close caption is in Italian. Pity. Many people would enjoy this masterpiece if it had at list the English subtitles. But if this is not a problem for you, than I would strongly recommend to watch this movie.'] - positive\n",
      "9) ['\"Der Todesking\"-Jorg Buttgereit\\'s second full-length feature film(the first one was notorious \"Nekromantik\")has no central character or characters,but instead thematic continuity in the act of suicide.Divided into days of the week,it comprises of a series of set-pieces,each of which featuring the self-destruction of a complete stranger.Yes,the production values are low and it\\'s disturbing,but in many ways \"Der Todesking\" is extremely effective.It makes you think which is sometimes more important than pure entertainment.Unlike the other Buttgereit\\'s works it isn\\'t very gory,but there are some unpleasant images like castration scene in the Tuesday episode,a decomposing corpse and various acts of suicide.The last(Sunday)episode is so depressing and full of pain!-just amazing if you want my opinion.10 out of 10-check out this post-modernism shocker!Disturbing art in the purest form!'] - positive\n",
      "10) [\"'Anita and Me' is a drama about growing up in multi-ethnic Britain, rather like 'Bend it Like Beckham', or more closely, 'East is East', with which it shares a 1970s setting. The tone is resolutely chirpy (in spite of the dour Black Country accents), but the film lacks 'East is East's vigour and the result seems rather thin and trite. Moreover, the portrayal of the film's central relationship, between an Asian girl and her white friend, is insufficiently deep to justify the way that the movie is structured around it. I have also grown tired of films where the hero years to be a writer, this is naturally often something that real writers have experienced, but hardly a fresh element in a fictional story. 'East is East' was fun and sharp; 'Anita and Me' seems obvious and dull in comparison.\"] - negative\n"
     ]
    }
   ],
   "source": [
    "j=1\n",
    "for i,k in zip(a.Text_Review,a.Sentiment):\n",
    "    print(f'{j}) {(i)} - {k}')\n",
    "    j+=1"
   ]
  },
  {
   "cell_type": "markdown",
   "metadata": {},
   "source": [
    "###  Observation for Cleaning \n",
    "##### The only thing seen from the ten random sqmples that had to be cleaned is the \\<br \\/> and also the [ ] and \" \" "
   ]
  },
  {
   "cell_type": "markdown",
   "metadata": {},
   "source": [
    "## Cleaning "
   ]
  },
  {
   "cell_type": "code",
   "execution_count": 52,
   "metadata": {},
   "outputs": [],
   "source": [
    "def clean_txt(text):\n",
    "    text = re.sub('<br />','',text)\n",
    "    text = text.replace('[\"',\"\")\n",
    "    text = text.replace('\"]',\"\")\n",
    "    text = text.replace(\"['\",\"\")\n",
    "    text = text.replace(\"']\",\"\")\n",
    "    \n",
    "    # text = re.sub(r'\"','',text)\n",
    "    # text = re.sub(r'\"','',text)\n",
    "    # text = re.sub(r'[','',text)\n",
    "    # text = re.sub(r']','',text)\n",
    "    return text"
   ]
  },
  {
   "cell_type": "code",
   "execution_count": 53,
   "metadata": {},
   "outputs": [],
   "source": [
    "train_data.Text_Review = train_data['Text_Review'].apply(clean_txt)\n",
    "a = train_data.sample(10)"
   ]
  },
  {
   "cell_type": "code",
   "execution_count": 54,
   "metadata": {},
   "outputs": [
    {
     "data": {
      "text/html": [
       "<div>\n",
       "<style scoped>\n",
       "    .dataframe tbody tr th:only-of-type {\n",
       "        vertical-align: middle;\n",
       "    }\n",
       "\n",
       "    .dataframe tbody tr th {\n",
       "        vertical-align: top;\n",
       "    }\n",
       "\n",
       "    .dataframe thead th {\n",
       "        text-align: right;\n",
       "    }\n",
       "</style>\n",
       "<table border=\"1\" class=\"dataframe\">\n",
       "  <thead>\n",
       "    <tr style=\"text-align: right;\">\n",
       "      <th></th>\n",
       "      <th>Text_Review</th>\n",
       "      <th>Sentiment</th>\n",
       "    </tr>\n",
       "  </thead>\n",
       "  <tbody>\n",
       "    <tr>\n",
       "      <th>24150</th>\n",
       "      <td>Disappointing, predictable film in which a wom...</td>\n",
       "      <td>negative</td>\n",
       "    </tr>\n",
       "    <tr>\n",
       "      <th>7223</th>\n",
       "      <td>\"What is love? What is this longing in our hea...</td>\n",
       "      <td>positive</td>\n",
       "    </tr>\n",
       "    <tr>\n",
       "      <th>9934</th>\n",
       "      <td>Vincent Price's follow-up to HOUSE OF WAX (195...</td>\n",
       "      <td>positive</td>\n",
       "    </tr>\n",
       "    <tr>\n",
       "      <th>15749</th>\n",
       "      <td>If you go see this movie you'll be holding a g...</td>\n",
       "      <td>negative</td>\n",
       "    </tr>\n",
       "    <tr>\n",
       "      <th>19174</th>\n",
       "      <td>I wanted to like this film, yes its a SAW, bla...</td>\n",
       "      <td>negative</td>\n",
       "    </tr>\n",
       "    <tr>\n",
       "      <th>4151</th>\n",
       "      <td>this is one of the funniest shows i have ever ...</td>\n",
       "      <td>positive</td>\n",
       "    </tr>\n",
       "    <tr>\n",
       "      <th>6655</th>\n",
       "      <td>Anyone who had never seen anything like the fi...</td>\n",
       "      <td>positive</td>\n",
       "    </tr>\n",
       "    <tr>\n",
       "      <th>15776</th>\n",
       "      <td>Every once in a while, a group of friends, wit...</td>\n",
       "      <td>negative</td>\n",
       "    </tr>\n",
       "    <tr>\n",
       "      <th>18290</th>\n",
       "      <td>I do agree with everything Calamine has said! ...</td>\n",
       "      <td>negative</td>\n",
       "    </tr>\n",
       "    <tr>\n",
       "      <th>17306</th>\n",
       "      <td>1. Aliens resemble plush toys and hand puppets...</td>\n",
       "      <td>negative</td>\n",
       "    </tr>\n",
       "  </tbody>\n",
       "</table>\n",
       "</div>"
      ],
      "text/plain": [
       "                                             Text_Review Sentiment\n",
       "24150  Disappointing, predictable film in which a wom...  negative\n",
       "7223   \"What is love? What is this longing in our hea...  positive\n",
       "9934   Vincent Price's follow-up to HOUSE OF WAX (195...  positive\n",
       "15749  If you go see this movie you'll be holding a g...  negative\n",
       "19174  I wanted to like this film, yes its a SAW, bla...  negative\n",
       "4151   this is one of the funniest shows i have ever ...  positive\n",
       "6655   Anyone who had never seen anything like the fi...  positive\n",
       "15776  Every once in a while, a group of friends, wit...  negative\n",
       "18290  I do agree with everything Calamine has said! ...  negative\n",
       "17306  1. Aliens resemble plush toys and hand puppets...  negative"
      ]
     },
     "execution_count": 54,
     "metadata": {},
     "output_type": "execute_result"
    }
   ],
   "source": [
    "a"
   ]
  },
  {
   "cell_type": "markdown",
   "metadata": {},
   "source": [
    "### Feature Extraction "
   ]
  },
  {
   "cell_type": "code",
   "execution_count": null,
   "metadata": {},
   "outputs": [],
   "source": []
  }
 ],
 "metadata": {
  "interpreter": {
   "hash": "8040ec2ad0cff8d58f013f52648f683bec6c7eaf791b6d05a489d1a84c1a212f"
  },
  "kernelspec": {
   "display_name": "Python 3.9.6 64-bit",
   "language": "python",
   "name": "python3"
  },
  "language_info": {
   "codemirror_mode": {
    "name": "ipython",
    "version": 3
   },
   "file_extension": ".py",
   "mimetype": "text/x-python",
   "name": "python",
   "nbconvert_exporter": "python",
   "pygments_lexer": "ipython3",
   "version": "3.9.6"
  },
  "orig_nbformat": 4
 },
 "nbformat": 4,
 "nbformat_minor": 2
}
