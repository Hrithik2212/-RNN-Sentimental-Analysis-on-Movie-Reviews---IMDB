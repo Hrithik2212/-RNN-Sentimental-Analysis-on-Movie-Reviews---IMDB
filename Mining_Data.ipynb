{
 "cells": [
  {
   "cell_type": "markdown",
   "metadata": {},
   "source": [
    "# *_Data Mining_*  "
   ]
  },
  {
   "cell_type": "code",
   "execution_count": 2,
   "metadata": {},
   "outputs": [],
   "source": [
    "import pandas as pd\n",
    "import os "
   ]
  },
  {
   "cell_type": "markdown",
   "metadata": {},
   "source": [
    "## _*AIM*_ - \n",
    "#### To mine the text data from the given files in which the data of each review is stored in seperate txt files and convert the data to csv form along with thier classification label for sentimental Analysis  "
   ]
  },
  {
   "cell_type": "markdown",
   "metadata": {},
   "source": [
    "### Source - https://ai.stanford.edu/~amaas/data/sentiment/"
   ]
  },
  {
   "cell_type": "markdown",
   "metadata": {},
   "source": [
    "### Format of Files\n",
    "##### There are two top-level directories [train/, test/] corresponding to the training and test sets. Each contains [pos/, neg/] directories for the reviews with binary labels positive and negative. Within these directories, reviews are stored in text files named following the convention [[id]_[rating].txt] where [id] is a unique id and [rating] is the star rating for that review on a 1-10 scale. For example, the file [test/pos/200_8.txt] is the text for a positive-labeled test set example with unique id 200 and star rating 8/10 from IMDb. The [train/unsup/] directory has 0 for all ratings because the ratings are omitted for this portion of the dataset."
   ]
  },
  {
   "cell_type": "code",
   "execution_count": 39,
   "metadata": {},
   "outputs": [],
   "source": [
    "def create_ds(a):\n",
    "    review_list = []\n",
    "    ratings = []\n",
    "    dir = r'C:\\Users\\HRITHIK REDDY\\Learning\\MOVIe\\aclImdb_v1\\aclImdb'\n",
    "    path = os.path.join(dir,a)\n",
    "    path_pos = os.path.join(path,r'pos')\n",
    "    path_neg = os.path.join(path,r'neg')\n",
    "    for review in os.listdir(path_pos):\n",
    "        review_path = os.path.join(path_pos,review)\n",
    "        with open(review_path,'r') as f:\n",
    "            try :\n",
    "                a = f.readlines()\n",
    "                review_list.append(a)\n",
    "                ratings.append('positive')\n",
    "                f.close\n",
    "            except:\n",
    "                f.close\n",
    "                continue\n",
    "    for review in os.listdir(path_neg):\n",
    "        review_path = os.path.join(path_neg,review)\n",
    "        with open(review_path,'r') as f:\n",
    "            try:\n",
    "                a = f.readlines()\n",
    "                f.close\n",
    "                review_list.append(a)\n",
    "                ratings.append('negative')\n",
    "            except:\n",
    "                f.close\n",
    "                continue\n",
    "    data_dict ={'Text_Review':review_list,'Sentiment':ratings}\n",
    "    data = pd.DataFrame(data_dict)\n",
    "    return data\n"
   ]
  },
  {
   "cell_type": "code",
   "execution_count": 40,
   "metadata": {},
   "outputs": [],
   "source": [
    "## Train Dataset  \n",
    "Train_DS = create_ds(r'train')"
   ]
  },
  {
   "cell_type": "code",
   "execution_count": 41,
   "metadata": {},
   "outputs": [
    {
     "data": {
      "text/html": [
       "<div>\n",
       "<style scoped>\n",
       "    .dataframe tbody tr th:only-of-type {\n",
       "        vertical-align: middle;\n",
       "    }\n",
       "\n",
       "    .dataframe tbody tr th {\n",
       "        vertical-align: top;\n",
       "    }\n",
       "\n",
       "    .dataframe thead th {\n",
       "        text-align: right;\n",
       "    }\n",
       "</style>\n",
       "<table border=\"1\" class=\"dataframe\">\n",
       "  <thead>\n",
       "    <tr style=\"text-align: right;\">\n",
       "      <th></th>\n",
       "      <th>Text_Review</th>\n",
       "      <th>Sentiment</th>\n",
       "    </tr>\n",
       "  </thead>\n",
       "  <tbody>\n",
       "    <tr>\n",
       "      <th>0</th>\n",
       "      <td>[Bromwell High is a cartoon comedy. It ran at ...</td>\n",
       "      <td>positive</td>\n",
       "    </tr>\n",
       "    <tr>\n",
       "      <th>1</th>\n",
       "      <td>[Homelessness (or Houselessness as George Carl...</td>\n",
       "      <td>positive</td>\n",
       "    </tr>\n",
       "    <tr>\n",
       "      <th>2</th>\n",
       "      <td>[Brilliant over-acting by Lesley Ann Warren. B...</td>\n",
       "      <td>positive</td>\n",
       "    </tr>\n",
       "    <tr>\n",
       "      <th>3</th>\n",
       "      <td>[This is easily the most underrated film inn t...</td>\n",
       "      <td>positive</td>\n",
       "    </tr>\n",
       "    <tr>\n",
       "      <th>4</th>\n",
       "      <td>[This is not the typical Mel Brooks film. It w...</td>\n",
       "      <td>positive</td>\n",
       "    </tr>\n",
       "    <tr>\n",
       "      <th>...</th>\n",
       "      <td>...</td>\n",
       "      <td>...</td>\n",
       "    </tr>\n",
       "    <tr>\n",
       "      <th>24979</th>\n",
       "      <td>[Towards the end of the movie, I felt it was t...</td>\n",
       "      <td>negative</td>\n",
       "    </tr>\n",
       "    <tr>\n",
       "      <th>24980</th>\n",
       "      <td>[This is the kind of movie that my enemies con...</td>\n",
       "      <td>negative</td>\n",
       "    </tr>\n",
       "    <tr>\n",
       "      <th>24981</th>\n",
       "      <td>[I saw 'Descent' last night at the Stockholm F...</td>\n",
       "      <td>negative</td>\n",
       "    </tr>\n",
       "    <tr>\n",
       "      <th>24982</th>\n",
       "      <td>[Some films that you pick up for a pound turn ...</td>\n",
       "      <td>negative</td>\n",
       "    </tr>\n",
       "    <tr>\n",
       "      <th>24983</th>\n",
       "      <td>[This is one of the dumbest films, I've ever s...</td>\n",
       "      <td>negative</td>\n",
       "    </tr>\n",
       "  </tbody>\n",
       "</table>\n",
       "<p>24984 rows × 2 columns</p>\n",
       "</div>"
      ],
      "text/plain": [
       "                                             Text_Review Sentiment\n",
       "0      [Bromwell High is a cartoon comedy. It ran at ...  positive\n",
       "1      [Homelessness (or Houselessness as George Carl...  positive\n",
       "2      [Brilliant over-acting by Lesley Ann Warren. B...  positive\n",
       "3      [This is easily the most underrated film inn t...  positive\n",
       "4      [This is not the typical Mel Brooks film. It w...  positive\n",
       "...                                                  ...       ...\n",
       "24979  [Towards the end of the movie, I felt it was t...  negative\n",
       "24980  [This is the kind of movie that my enemies con...  negative\n",
       "24981  [I saw 'Descent' last night at the Stockholm F...  negative\n",
       "24982  [Some films that you pick up for a pound turn ...  negative\n",
       "24983  [This is one of the dumbest films, I've ever s...  negative\n",
       "\n",
       "[24984 rows x 2 columns]"
      ]
     },
     "execution_count": 41,
     "metadata": {},
     "output_type": "execute_result"
    }
   ],
   "source": [
    "Train_DS"
   ]
  },
  {
   "cell_type": "code",
   "execution_count": 45,
   "metadata": {},
   "outputs": [],
   "source": [
    "os.chdir(r'C:\\Users\\HRITHIK REDDY\\Learning\\MOVIe')\n",
    "Train_DS.to_csv('Train_reviews.csv')"
   ]
  },
  {
   "cell_type": "markdown",
   "metadata": {},
   "source": [
    "---"
   ]
  },
  {
   "cell_type": "code",
   "execution_count": 42,
   "metadata": {},
   "outputs": [],
   "source": [
    "## Test Dataset\n",
    "Test_DS = create_ds(r'test')"
   ]
  },
  {
   "cell_type": "code",
   "execution_count": 43,
   "metadata": {},
   "outputs": [
    {
     "data": {
      "text/html": [
       "<div>\n",
       "<style scoped>\n",
       "    .dataframe tbody tr th:only-of-type {\n",
       "        vertical-align: middle;\n",
       "    }\n",
       "\n",
       "    .dataframe tbody tr th {\n",
       "        vertical-align: top;\n",
       "    }\n",
       "\n",
       "    .dataframe thead th {\n",
       "        text-align: right;\n",
       "    }\n",
       "</style>\n",
       "<table border=\"1\" class=\"dataframe\">\n",
       "  <thead>\n",
       "    <tr style=\"text-align: right;\">\n",
       "      <th></th>\n",
       "      <th>Text_Review</th>\n",
       "      <th>Sentiment</th>\n",
       "    </tr>\n",
       "  </thead>\n",
       "  <tbody>\n",
       "    <tr>\n",
       "      <th>0</th>\n",
       "      <td>[I went and saw this movie last night after be...</td>\n",
       "      <td>positive</td>\n",
       "    </tr>\n",
       "    <tr>\n",
       "      <th>1</th>\n",
       "      <td>[Actor turned director Bill Paxton follows up ...</td>\n",
       "      <td>positive</td>\n",
       "    </tr>\n",
       "    <tr>\n",
       "      <th>2</th>\n",
       "      <td>[As a recreational golfer with some knowledge ...</td>\n",
       "      <td>positive</td>\n",
       "    </tr>\n",
       "    <tr>\n",
       "      <th>3</th>\n",
       "      <td>[I saw this film in a sneak preview, and it is...</td>\n",
       "      <td>positive</td>\n",
       "    </tr>\n",
       "    <tr>\n",
       "      <th>4</th>\n",
       "      <td>[Bill Paxton has taken the true story of the 1...</td>\n",
       "      <td>positive</td>\n",
       "    </tr>\n",
       "    <tr>\n",
       "      <th>...</th>\n",
       "      <td>...</td>\n",
       "      <td>...</td>\n",
       "    </tr>\n",
       "    <tr>\n",
       "      <th>24980</th>\n",
       "      <td>[I occasionally let my kids watch this garbage...</td>\n",
       "      <td>negative</td>\n",
       "    </tr>\n",
       "    <tr>\n",
       "      <th>24981</th>\n",
       "      <td>[When all we have anymore is pretty much reali...</td>\n",
       "      <td>negative</td>\n",
       "    </tr>\n",
       "    <tr>\n",
       "      <th>24982</th>\n",
       "      <td>[The basic genre is a thriller intercut with a...</td>\n",
       "      <td>negative</td>\n",
       "    </tr>\n",
       "    <tr>\n",
       "      <th>24983</th>\n",
       "      <td>[Four things intrigued me as to this film - fi...</td>\n",
       "      <td>negative</td>\n",
       "    </tr>\n",
       "    <tr>\n",
       "      <th>24984</th>\n",
       "      <td>[David Bryce's comments nearby are exceptional...</td>\n",
       "      <td>negative</td>\n",
       "    </tr>\n",
       "  </tbody>\n",
       "</table>\n",
       "<p>24985 rows × 2 columns</p>\n",
       "</div>"
      ],
      "text/plain": [
       "                                             Text_Review Sentiment\n",
       "0      [I went and saw this movie last night after be...  positive\n",
       "1      [Actor turned director Bill Paxton follows up ...  positive\n",
       "2      [As a recreational golfer with some knowledge ...  positive\n",
       "3      [I saw this film in a sneak preview, and it is...  positive\n",
       "4      [Bill Paxton has taken the true story of the 1...  positive\n",
       "...                                                  ...       ...\n",
       "24980  [I occasionally let my kids watch this garbage...  negative\n",
       "24981  [When all we have anymore is pretty much reali...  negative\n",
       "24982  [The basic genre is a thriller intercut with a...  negative\n",
       "24983  [Four things intrigued me as to this film - fi...  negative\n",
       "24984  [David Bryce's comments nearby are exceptional...  negative\n",
       "\n",
       "[24985 rows x 2 columns]"
      ]
     },
     "execution_count": 43,
     "metadata": {},
     "output_type": "execute_result"
    }
   ],
   "source": [
    "Test_DS"
   ]
  },
  {
   "cell_type": "code",
   "execution_count": 46,
   "metadata": {},
   "outputs": [],
   "source": [
    "Test_DS.to_csv('Test_reviews.csv')"
   ]
  },
  {
   "cell_type": "markdown",
   "metadata": {},
   "source": [
    "---"
   ]
  }
 ],
 "metadata": {
  "interpreter": {
   "hash": "8040ec2ad0cff8d58f013f52648f683bec6c7eaf791b6d05a489d1a84c1a212f"
  },
  "kernelspec": {
   "display_name": "Python 3.9.6 64-bit",
   "language": "python",
   "name": "python3"
  },
  "language_info": {
   "codemirror_mode": {
    "name": "ipython",
    "version": 3
   },
   "file_extension": ".py",
   "mimetype": "text/x-python",
   "name": "python",
   "nbconvert_exporter": "python",
   "pygments_lexer": "ipython3",
   "version": "3.9.6"
  },
  "orig_nbformat": 4
 },
 "nbformat": 4,
 "nbformat_minor": 2
}
