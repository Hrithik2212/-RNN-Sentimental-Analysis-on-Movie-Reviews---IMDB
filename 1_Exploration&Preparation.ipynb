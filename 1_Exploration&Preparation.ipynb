{
 "cells": [
  {
   "cell_type": "markdown",
   "metadata": {},
   "source": [
    "# _*Exploration and Preparation*_"
   ]
  },
  {
   "cell_type": "code",
   "execution_count": 1,
   "metadata": {},
   "outputs": [],
   "source": [
    "import textblob as tb\n",
    "from wordcloud import WordCloud\n",
    "import re \n",
    "import pandas as pd\n",
    "import matplotlib.pyplot as plt\n",
    "import seaborn as sns \n"
   ]
  },
  {
   "cell_type": "markdown",
   "metadata": {},
   "source": [
    "### Description\n",
    "\n",
    "##### The core dataset contains 50,000 reviews of movies from IMDB split evenly into 25k train and 25k test sets. The overall distribution of labels is balanced (25k pos and 25k neg)\n",
    "##### In the entire collection, no more than 30 reviews are allowed for any given movie because reviews for the same movie tend to have correlated ratings. Further, the train and test sets contain a disjoint set of movies, so no significant performance is obtained by memorizing movie-unique terms and their associated with observed labels.  In the labeled train/test sets, a negative review has a score <= 4 out of 10, and a positive review has a score >= 7 out of 10. Thus reviews with more neutral ratings are not included in the train/test sets."
   ]
  },
  {
   "cell_type": "markdown",
   "metadata": {},
   "source": [
    "### Exploration "
   ]
  },
  {
   "cell_type": "code",
   "execution_count": 2,
   "metadata": {},
   "outputs": [
    {
     "name": "stdout",
     "output_type": "stream",
     "text": [
      "<class 'pandas.core.frame.DataFrame'>\n",
      "RangeIndex: 24984 entries, 0 to 24983\n",
      "Data columns (total 3 columns):\n",
      " #   Column       Non-Null Count  Dtype \n",
      "---  ------       --------------  ----- \n",
      " 0   Unnamed: 0   24984 non-null  int64 \n",
      " 1   Text_Review  24984 non-null  object\n",
      " 2   Sentiment    24984 non-null  object\n",
      "dtypes: int64(1), object(2)\n",
      "memory usage: 585.7+ KB\n"
     ]
    }
   ],
   "source": [
    "train_data = pd.read_csv('Train_reviews.csv')\n",
    "train_data.info()"
   ]
  },
  {
   "cell_type": "code",
   "execution_count": 3,
   "metadata": {},
   "outputs": [
    {
     "data": {
      "text/html": [
       "<div>\n",
       "<style scoped>\n",
       "    .dataframe tbody tr th:only-of-type {\n",
       "        vertical-align: middle;\n",
       "    }\n",
       "\n",
       "    .dataframe tbody tr th {\n",
       "        vertical-align: top;\n",
       "    }\n",
       "\n",
       "    .dataframe thead th {\n",
       "        text-align: right;\n",
       "    }\n",
       "</style>\n",
       "<table border=\"1\" class=\"dataframe\">\n",
       "  <thead>\n",
       "    <tr style=\"text-align: right;\">\n",
       "      <th></th>\n",
       "      <th>Unnamed: 0</th>\n",
       "      <th>Text_Review</th>\n",
       "      <th>Sentiment</th>\n",
       "    </tr>\n",
       "  </thead>\n",
       "  <tbody>\n",
       "    <tr>\n",
       "      <th>0</th>\n",
       "      <td>0</td>\n",
       "      <td>['Bromwell High is a cartoon comedy. It ran at...</td>\n",
       "      <td>positive</td>\n",
       "    </tr>\n",
       "    <tr>\n",
       "      <th>1</th>\n",
       "      <td>1</td>\n",
       "      <td>['Homelessness (or Houselessness as George Car...</td>\n",
       "      <td>positive</td>\n",
       "    </tr>\n",
       "    <tr>\n",
       "      <th>2</th>\n",
       "      <td>2</td>\n",
       "      <td>['Brilliant over-acting by Lesley Ann Warren. ...</td>\n",
       "      <td>positive</td>\n",
       "    </tr>\n",
       "    <tr>\n",
       "      <th>3</th>\n",
       "      <td>3</td>\n",
       "      <td>['This is easily the most underrated film inn ...</td>\n",
       "      <td>positive</td>\n",
       "    </tr>\n",
       "    <tr>\n",
       "      <th>4</th>\n",
       "      <td>4</td>\n",
       "      <td>['This is not the typical Mel Brooks film. It ...</td>\n",
       "      <td>positive</td>\n",
       "    </tr>\n",
       "  </tbody>\n",
       "</table>\n",
       "</div>"
      ],
      "text/plain": [
       "   Unnamed: 0                                        Text_Review Sentiment\n",
       "0           0  ['Bromwell High is a cartoon comedy. It ran at...  positive\n",
       "1           1  ['Homelessness (or Houselessness as George Car...  positive\n",
       "2           2  ['Brilliant over-acting by Lesley Ann Warren. ...  positive\n",
       "3           3  ['This is easily the most underrated film inn ...  positive\n",
       "4           4  ['This is not the typical Mel Brooks film. It ...  positive"
      ]
     },
     "execution_count": 3,
     "metadata": {},
     "output_type": "execute_result"
    }
   ],
   "source": [
    "train_data.head()"
   ]
  },
  {
   "cell_type": "code",
   "execution_count": 4,
   "metadata": {},
   "outputs": [
    {
     "name": "stdout",
     "output_type": "stream",
     "text": [
      "<class 'pandas.core.frame.DataFrame'>\n",
      "RangeIndex: 24984 entries, 0 to 24983\n",
      "Data columns (total 2 columns):\n",
      " #   Column       Non-Null Count  Dtype \n",
      "---  ------       --------------  ----- \n",
      " 0   Text_Review  24984 non-null  object\n",
      " 1   Sentiment    24984 non-null  object\n",
      "dtypes: object(2)\n",
      "memory usage: 390.5+ KB\n"
     ]
    }
   ],
   "source": [
    "train_data = train_data.drop('Unnamed: 0',axis=1)\n",
    "train_data.info()"
   ]
  },
  {
   "cell_type": "code",
   "execution_count": 5,
   "metadata": {},
   "outputs": [
    {
     "data": {
      "text/html": [
       "<div>\n",
       "<style scoped>\n",
       "    .dataframe tbody tr th:only-of-type {\n",
       "        vertical-align: middle;\n",
       "    }\n",
       "\n",
       "    .dataframe tbody tr th {\n",
       "        vertical-align: top;\n",
       "    }\n",
       "\n",
       "    .dataframe thead th {\n",
       "        text-align: right;\n",
       "    }\n",
       "</style>\n",
       "<table border=\"1\" class=\"dataframe\">\n",
       "  <thead>\n",
       "    <tr style=\"text-align: right;\">\n",
       "      <th></th>\n",
       "      <th>Text_Review</th>\n",
       "      <th>Sentiment</th>\n",
       "    </tr>\n",
       "  </thead>\n",
       "  <tbody>\n",
       "    <tr>\n",
       "      <th>24870</th>\n",
       "      <td>[\"Okay so i found out about this movie and I w...</td>\n",
       "      <td>negative</td>\n",
       "    </tr>\n",
       "    <tr>\n",
       "      <th>18766</th>\n",
       "      <td>[\"We went to the movie with a group because th...</td>\n",
       "      <td>negative</td>\n",
       "    </tr>\n",
       "    <tr>\n",
       "      <th>17569</th>\n",
       "      <td>[\"I saw this by accident one lazy summer after...</td>\n",
       "      <td>negative</td>\n",
       "    </tr>\n",
       "    <tr>\n",
       "      <th>20586</th>\n",
       "      <td>[\"Where to start, this movie started badly and...</td>\n",
       "      <td>negative</td>\n",
       "    </tr>\n",
       "    <tr>\n",
       "      <th>18103</th>\n",
       "      <td>[\"Err...this movie sucked. A LOT.&lt;br /&gt;&lt;br /&gt;I...</td>\n",
       "      <td>negative</td>\n",
       "    </tr>\n",
       "    <tr>\n",
       "      <th>2382</th>\n",
       "      <td>[\"Return To The 3th Chamber is the comedic seq...</td>\n",
       "      <td>positive</td>\n",
       "    </tr>\n",
       "    <tr>\n",
       "      <th>3341</th>\n",
       "      <td>[\"Only once in a while do we get an R-rated co...</td>\n",
       "      <td>positive</td>\n",
       "    </tr>\n",
       "    <tr>\n",
       "      <th>22101</th>\n",
       "      <td>[\"I think they really let the quality of the D...</td>\n",
       "      <td>negative</td>\n",
       "    </tr>\n",
       "    <tr>\n",
       "      <th>20370</th>\n",
       "      <td>[\"I enjoy quality crapness, and this ranks up ...</td>\n",
       "      <td>negative</td>\n",
       "    </tr>\n",
       "    <tr>\n",
       "      <th>5427</th>\n",
       "      <td>['This movie has several things going for it. ...</td>\n",
       "      <td>positive</td>\n",
       "    </tr>\n",
       "  </tbody>\n",
       "</table>\n",
       "</div>"
      ],
      "text/plain": [
       "                                             Text_Review Sentiment\n",
       "24870  [\"Okay so i found out about this movie and I w...  negative\n",
       "18766  [\"We went to the movie with a group because th...  negative\n",
       "17569  [\"I saw this by accident one lazy summer after...  negative\n",
       "20586  [\"Where to start, this movie started badly and...  negative\n",
       "18103  [\"Err...this movie sucked. A LOT.<br /><br />I...  negative\n",
       "2382   [\"Return To The 3th Chamber is the comedic seq...  positive\n",
       "3341   [\"Only once in a while do we get an R-rated co...  positive\n",
       "22101  [\"I think they really let the quality of the D...  negative\n",
       "20370  [\"I enjoy quality crapness, and this ranks up ...  negative\n",
       "5427   ['This movie has several things going for it. ...  positive"
      ]
     },
     "execution_count": 5,
     "metadata": {},
     "output_type": "execute_result"
    }
   ],
   "source": [
    "a = train_data.sample(10)\n",
    "a"
   ]
  },
  {
   "cell_type": "code",
   "execution_count": 6,
   "metadata": {},
   "outputs": [
    {
     "name": "stdout",
     "output_type": "stream",
     "text": [
      "1) [\"Okay so i found out about this movie and I watched the preview read almost all the reviews and was having a hard time debating whether I should watch it or not. Before i even watched the movie i was emotionally weird on it. i was so unsure if i was going to watch this and be disturbed for like a long time. So i choose to risk it and watched it and heres what i thought: The beginning started off fine for me. It seemed to be heading in a decent direction. Got past the rape scene and i couldn't figure why people were so disturbed or bored by the movie. Don't get me wrong the rape scene was just as sad and scary but it didn't really bother me to a dramatic point. Then as the middle came in i understood the boring stuff that was going on. There was like 5 minutes shots of nothing but people walking around saying or showing nothing! its one thing to have a shot where a person is showing some kind of emotion but this movie didn't have that. It had about 3 of these pointless scenes, where you see the main character Maya kind of get out of control but it didn't show it right making me want to fast forward. Then when she engaged in the hardcore partying it wasn't so boring but still a little dull. Oh and as a note Rosario Dawson still did a great job. Okay moving on so finally after an hour of pointlessness to the middle the revenge comes to Maya's attention. Thats where it got disturbing. I didn't feel bad for him or nothing he got what he deserved but the whole scene was really disturbing and i just felt all eck after it. I cant really tell you whether or not to watch this movie because its so...i don't know i cant find a word to sum it up. But if you choose to watch it just don't be unsuprised.\"] - negative\n",
      "2) [\"We went to the movie with a group because the play we were going to was cancelled. It is without doubt one of the worst movies ever. It is not that i don't like cult-movies I do. But nothing happens in the film. One does not feel any connection with the characters whatsoever. endless times without dialog. And the car. How do thay carry a huge tent and beds chairs and clothing for every day in that car? It is a two seater! I have to say however the scenery is beautiful, but not in a movie, the director should have made a photoshoot of the movie, so that we could skip about 80 minutes of useless time in with nothing happens anyway.<br /><br /> I would not recommend it, as it is a waste of your time\"] - negative\n",
      "3) [\"I saw this by accident one lazy summer afternoon. It was playing on the family programming channel of HBO. At first I was drawn in, by what I thought was a Disney animation. But then, after a few minutes, I found myself searching for the remote, so I could find the 'INFO BUTTON', to find out what in the world was on my TV. I have nothing against Harvey F., I enjoy him in many of his films, but one thing he is not, is a voice-over artist. Sure he has one of the more unique voices in Hollywood, but it works only as a part of a bigger visual package. Attaching his voice to a cute duck made watching somewhat difficult. As for the rest of the cast, uninspired. I suppose working on this film didn't appeal to the really good voice over talent out there.<br /><br />So, weak voice talent, strong animation...who was this film targeting? Gay adolescent ducks? I don't get it. Is there really such a dearth of role-models for young up and coming homosexuals, that we must resort to animated ducks? Cute story, and like the title, this movie I found hard to love, just like an ugly duckling.\"] - negative\n",
      "4) [\"Where to start, this movie started badly and ended badly! It consists of extremely poor acting and unrealistic effects that had me cringing in my seat, seriously, my cat could have acted better than this lot.<br /><br />Some of it was actually laughable because it was so unbelievable, i would of rated this lower but they haven't got anything else! So, heed my warning and unless your so bored your close to suicide and would like a good reason to continue with your suicide mission, don't bother with this one. I'm still in shock that this could actually be released to the public, this should be a crime and all involved should be arrested. I gather you've got the gist by now so i'll leave it up to you to decide.\"] - negative\n",
      "5) [\"Err...this movie sucked. A LOT.<br /><br />I have been reading some of the other reviews. Apparently there are a lot of people that think that anything Woody Allen writes or stars in is automatically good...<br /><br />I have watched several of his films, in the vain hope that I'm missing something. But no, they just suck. Poorly written trash. The characters are all very stereotypical (not to mention rather stupid). The plot is...I think it is supposed to be mysterious. Not sure on that. Mr. Allen's character is...Woody Allen, on any other film you have seen of his.<br /><br />If you are a fan of Woody Allen, go see this film. If you are under 50, don't bother. (If you are a fan of Woody Allen AND you are under 50...well, you are atypical. I don't know what to say.)\"] - negative\n",
      "6) [\"Return To The 3th Chamber is the comedic sequel to the epic 36th Chamber Of Shaolin, in which Gordon Liu played Shan Te, a young man who became a monk and awesome fighter. In this sequel Liu plays a hapless loser who has to learn kung fu after causing his friends to be beaten. He imitates the original Shan Te, tries all manner of tricks to get into Shaolin Temple to learn and eventually gets some unique skills to fight some bullying bosses. Its a classic light hearted martial arts tale, with the ace production values of the Shaw Brothers and the sure footed direction of Lui Chia Liang. The choreography is fantastic throughout, whether for fighting or slapstick comedy and Gordon Liu's performance, as are the others, particularly the sympathetic monk work perfectly for the material. The film is less epic or profound than some of the stars other work and there are certainly grander, more violent and sweeping Shaw Brothers films. But few have such a magical blend of slapstick, unique training and fighting, with a subtle yet warming tale of a useless guy making good. Full of light hearted joy, its impossible not to give this the highest score.\"] - positive\n",
      "7) [\"Only once in a while do we get an R-rated comedy that gets everyone's time and attention. It's an even rarer case when the critics will like it. I just came back from The 40 Year-Old Virgin and I can honestly say, it was one of the biggest laughs of my life. I went to a 10:35 showing and every row was filled. Not only that, everyone laughed their ass off the whole time through. It's two hours of non-stop laughing. I dare you to see this film and to not laugh.<br /><br />The plot is simple. A man is forty years old and he is a virgin. Yet, behind this simple, five second joke, we are given a deep, complex story that is not only one of the funniest you'll ever witness, but has genuine lessons behind it. Steve Carell stars as Andy Stitzer, The 40 Year-Old Virgin. We have known Steve Carell, as, in my opinion, one of the best scene thieves of all time. Stealing hilarious scenes from Bruce Almighty and especially Anchorman, Steve Carell has come a long way, as finally, and proudly, is given his moment to shine as the star. No one will forget his name once they witness this pervasively funny, gut-busting, roll-in-the-aisle hilarious comedy.<br /><br />The beauty about the film is it isn't 100% stupid. The brilliant writing of Judd Apatow and Steve Carell genuinely has purpose and it's not just one hell of a story to tell. Behind the crudeness and vulgar non-stop ride of the film comes an important lesson to be learned. Although not presented in the best way possible, the film gives us more than a purely enjoyable time. Its gut-busting attitude will have you laughing the whole time through, while we simultaneously see the real life struggles of people like Andy and his fellow co-workers. The end couldn't have been better. Not only does it deliver what we are promised but it gives one of the most memorable finishing numbers a comedy has ever seen. It would have been perfect if there was Vince Vaughn and Owen Wilson in there cameoing somehow, but you can't win 'em all, now can you.<br /><br />Finally, I think as Roger Ebert put it, Catherine Keener gives an unexplainable perfect performance as Trish, the one woman Andy has his heart truly for. Not only does she also give us laughs but it is crazy to see how brightly she fuels the story. She was cast perfected in the role and her and Carell have terrific, not to mention, hilarious chemistry on screen.<br /><br />Canadian ratings-wise, once again, Ontario slips away with a 14A, while British Columbia, Alberta, and Manitoba all slapped The 40 Year-Old Virgin with an 18A. The same thing happened with Four Brothers, in my opinion, the second best film of the year, and I can honestly say that I love Ontario more and more so for that. To all you fellow teenagers out there in the States: Good luck sneaking in! <br /><br />Overall, Steve Carell gives one of the funniest performances I've ever seen and just about everyone in the cast distributes to the non-stop laughter. Everyone will love the 40 Year-Old Virgin this summer and I encourage everyone to see it as fast as humanly possible. It is the best comedy of the year, hands down. It beats all over The Longest Yard, The Wedding Crashers, and of course Apatow and Carell's last memorable comedy, Anchorman.<br /><br />It is a comic masterpiece and deserves the remarkable amount of praise from the critics who have been loving it. Every single one of my favourite critics loved it and it deserves a spot on the IMDb Top 250 right away. Steve Carell is a huge star. Watch one of the brightest ones of the summer right now.<br /><br />My Rating: 9/10 <br /><br />Objectively Â– 9/10 <br /><br />Subjectively Â– 10/10 <br /><br />Eliason A.\"] - positive\n",
      "8) [\"I think they really let the quality of the DVD production get away from them. I rented this DVD from 2 movie stores and the second time I finally got it to play on the 3rd DVD player I tried.<br /><br />Anyone else have this issue? It's really hard to give the film an un-biased review after going through such a hassle to play it. For one, I've never seen a Finnish horror film before so I was sort of bummed that the movie was done in English. Also since it's never made clear what is wrong with Sarah, she just came off as retarded and therefore I really just hoped someone would shoot her in the face and make all the horrific happenings go away.\"] - negative\n",
      "9) [\"I enjoy quality crapness, and this ranks up there with some of the finest. the cg is out of this world, or at least pre-dates our world, and the insanity of a 6 foot bloke in a rat outfit chasing after people is laughably bad. I quite enjoyed some of this, but the acting is so goddamn awful, and even the obligatory nude scene doesn't really have any baps out in it. just a complete waste of time if ever i saw one. I don't know who wasted more time, me watching this, or the poor saps who got dragged into making it in the faint hope that this will launch their acting careers. I can assure you, it wont. However, on a brighter note, I have managed to successfully do the 6 degrees of Kevin Bacon from this movie, so I think it was almost worthwhile watching the 91 minutes of it.\"] - negative\n",
      "10) ['This movie has several things going for it. It is a \"feel good\" story. The characters and actors are likable, realistic and present fine performances. Most important, I believe, is that Dennis Quaid knows how to grip and throw a baseball. Robert Redford looked good both throwing and swinging a bat in \"The Natural, and so did Kevin Costner in \"For Love of the Game\" and \"Bull Durham.\" In \"Major League,\" Tom Berenger and Charlie Sheen looked like they knew what they were doing, but many of the others did not, and that picture was pure silliness - and not very funny. <br /><br />So many earlier baseball movies, even where the stories might be interesting, presented such a lack of baseball ability on the part of the leads, they were ludicrous in this respect. In \"The Stratton Story\" and \"Strategic Air Command,\" Jimmy Stewart looked about as believable as a professional baseball player, as your overweight, non-athletic, elderly uncle in the softball game at the family reunion. Other virile and physically robust stars (e.g., Gary Cooper as Lou Gehrig; Robald Reagan as Grover Cleveland Alexander; and Dan Dailey as Dizzy Dean) also exhibited a degree of baseball ability that would put them in the late rounds while \"choosing-up\" for a game at the Sunday picnic (even if coed, and even if your uncle were involved). <br /><br />The scenes of Quaid\\'s high school team he coached, the ones where he attends his tryout with the Devil Rays, and those with him playing in two minor leagues and in the American League, all ring true. The participants are believable and capable. In addition, he is an engaging actor who always delivers a talented and appropriate characterization (except, to a degree, some of his \"over-the-top\" scenes, and his forced accent, in his portrayal of Jerry Lee Lewis). But he\\'s definitely on-target here, and this movie is a \"9,\" as good, or better, as any others of this genre, except for \"The Natural.\"'] - positive\n"
     ]
    }
   ],
   "source": [
    "j=1\n",
    "for i,k in zip(a.Text_Review,a.Sentiment):\n",
    "    print(f'{j}) {(i)} - {k}')\n",
    "    j+=1"
   ]
  },
  {
   "cell_type": "markdown",
   "metadata": {},
   "source": [
    "###  Observation for Cleaning \n",
    "##### The only thing seen from the ten random sqmples that had to be cleaned is the \\<br \\/> and also the [ ] and \" \" "
   ]
  },
  {
   "cell_type": "markdown",
   "metadata": {},
   "source": [
    "## Cleaning "
   ]
  },
  {
   "cell_type": "code",
   "execution_count": 7,
   "metadata": {},
   "outputs": [
    {
     "data": {
      "text/html": [
       "<div>\n",
       "<style scoped>\n",
       "    .dataframe tbody tr th:only-of-type {\n",
       "        vertical-align: middle;\n",
       "    }\n",
       "\n",
       "    .dataframe tbody tr th {\n",
       "        vertical-align: top;\n",
       "    }\n",
       "\n",
       "    .dataframe thead th {\n",
       "        text-align: right;\n",
       "    }\n",
       "</style>\n",
       "<table border=\"1\" class=\"dataframe\">\n",
       "  <thead>\n",
       "    <tr style=\"text-align: right;\">\n",
       "      <th></th>\n",
       "      <th>Text_Review</th>\n",
       "      <th>Sentiment</th>\n",
       "    </tr>\n",
       "  </thead>\n",
       "  <tbody>\n",
       "    <tr>\n",
       "      <th>10220</th>\n",
       "      <td>i really liked the film.at ending i was in tea...</td>\n",
       "      <td>positive</td>\n",
       "    </tr>\n",
       "    <tr>\n",
       "      <th>18306</th>\n",
       "      <td>who in their right mind plays a lyrical song a...</td>\n",
       "      <td>negative</td>\n",
       "    </tr>\n",
       "    <tr>\n",
       "      <th>21082</th>\n",
       "      <td>what seemed as a good premise for a movie...un...</td>\n",
       "      <td>negative</td>\n",
       "    </tr>\n",
       "    <tr>\n",
       "      <th>12013</th>\n",
       "      <td>wow. if you think that a film can't fatigue in...</td>\n",
       "      <td>positive</td>\n",
       "    </tr>\n",
       "    <tr>\n",
       "      <th>1785</th>\n",
       "      <td>i saw this when it premiered and just re-watch...</td>\n",
       "      <td>positive</td>\n",
       "    </tr>\n",
       "    <tr>\n",
       "      <th>21565</th>\n",
       "      <td>absolutely dreadful mexican film supposedly ba...</td>\n",
       "      <td>negative</td>\n",
       "    </tr>\n",
       "    <tr>\n",
       "      <th>13242</th>\n",
       "      <td>i didn\\'t expect a movie as good as \"in the li...</td>\n",
       "      <td>negative</td>\n",
       "    </tr>\n",
       "    <tr>\n",
       "      <th>4793</th>\n",
       "      <td>\"panic\" is a captivating, blurred-genre film a...</td>\n",
       "      <td>positive</td>\n",
       "    </tr>\n",
       "    <tr>\n",
       "      <th>3105</th>\n",
       "      <td>there are movies, and there are films. movies ...</td>\n",
       "      <td>positive</td>\n",
       "    </tr>\n",
       "    <tr>\n",
       "      <th>16126</th>\n",
       "      <td>my wife and i are semi amused by howie mandel\\...</td>\n",
       "      <td>negative</td>\n",
       "    </tr>\n",
       "  </tbody>\n",
       "</table>\n",
       "</div>"
      ],
      "text/plain": [
       "                                             Text_Review Sentiment\n",
       "10220  i really liked the film.at ending i was in tea...  positive\n",
       "18306  who in their right mind plays a lyrical song a...  negative\n",
       "21082  what seemed as a good premise for a movie...un...  negative\n",
       "12013  wow. if you think that a film can't fatigue in...  positive\n",
       "1785   i saw this when it premiered and just re-watch...  positive\n",
       "21565  absolutely dreadful mexican film supposedly ba...  negative\n",
       "13242  i didn\\'t expect a movie as good as \"in the li...  negative\n",
       "4793   \"panic\" is a captivating, blurred-genre film a...  positive\n",
       "3105   there are movies, and there are films. movies ...  positive\n",
       "16126  my wife and i are semi amused by howie mandel\\...  negative"
      ]
     },
     "execution_count": 7,
     "metadata": {},
     "output_type": "execute_result"
    }
   ],
   "source": [
    "def cln_txt(text):\n",
    "    text = text[2:-2]\n",
    "    text = re.sub('<br />','',text)\n",
    "    text = text.lower()\n",
    "    return text\n",
    "train_data.Text_Review = train_data['Text_Review'].apply(cln_txt)\n",
    "a = train_data.sample(10)\n",
    "a"
   ]
  },
  {
   "cell_type": "code",
   "execution_count": null,
   "metadata": {},
   "outputs": [],
   "source": [
    "train_data.to_csv('Train_reviews.csv',index=False)"
   ]
  },
  {
   "cell_type": "markdown",
   "metadata": {},
   "source": [
    "### Feature Extraction "
   ]
  },
  {
   "cell_type": "code",
   "execution_count": 12,
   "metadata": {},
   "outputs": [],
   "source": [
    "from nltk.tokenize import RegexpTokenizer\n",
    "from nltk.stem.porter import PorterStemmer\n",
    "from nltk.corpus import stopwords"
   ]
  },
  {
   "cell_type": "code",
   "execution_count": 13,
   "metadata": {},
   "outputs": [
    {
     "name": "stderr",
     "output_type": "stream",
     "text": [
      "[nltk_data] Downloading package stopwords to C:\\Users\\HRITHIK\n",
      "[nltk_data]     REDDY\\AppData\\Roaming\\nltk_data...\n",
      "[nltk_data]   Package stopwords is already up-to-date!\n"
     ]
    },
    {
     "data": {
      "text/plain": [
       "True"
      ]
     },
     "execution_count": 13,
     "metadata": {},
     "output_type": "execute_result"
    }
   ],
   "source": [
    "import nltk\n",
    "nltk.download('stopwords')"
   ]
  },
  {
   "cell_type": "code",
   "execution_count": 16,
   "metadata": {},
   "outputs": [],
   "source": [
    "tokenizer = RegexpTokenizer(r'\\w+')\n",
    "stemmer = PorterStemmer()\n",
    "eng_stopwords = set(stopwords.words('english'))"
   ]
  },
  {
   "cell_type": "code",
   "execution_count": 17,
   "metadata": {},
   "outputs": [],
   "source": [
    "def feature_extract(text):\n",
    "    # tokenize \n",
    "    tokens = tokenizer.tokenize(text)\n",
    "    # Stop word Removal\n",
    "    new_tokens = [token for token in tokens if token not in eng_stopwords]\n",
    "    # Stemming \n",
    "    stemmed_tokens =[stemmer.stem(i) for i in new_tokens]\n",
    "    clean_sen = \" \".join(stemmed_tokens)\n",
    "    return clean_sen "
   ]
  },
  {
   "cell_type": "code",
   "execution_count": 18,
   "metadata": {},
   "outputs": [
    {
     "data": {
      "text/plain": [
       "0        bromwel  high  cartoon  comedi  ran  time  pro...\n",
       "1        homeless  houseless  georg  carlin  state  iss...\n",
       "2        brilliant  act  lesley  ann  warren  best  dra...\n",
       "3        easili  underr  film  inn  brook  cannon  sure...\n",
       "4        typic  mel  brook  film  much  less  slapstick...\n",
       "                               ...                        \n",
       "24979    toward  end  movi  felt  technic  felt  like  ...\n",
       "24980    kind  movi  enemi  content  watch  time  blood...\n",
       "24981    saw  descent  last  night  stockholm  film  fe...\n",
       "24982    film  pick  pound  turn  rather  good  23rd  c...\n",
       "24983    one  dumbest  film  ever  seen  rip  nearli  e...\n",
       "Name: Text_Review, Length: 24984, dtype: object"
      ]
     },
     "execution_count": 18,
     "metadata": {},
     "output_type": "execute_result"
    }
   ],
   "source": [
    "a = train_data['Text_Review'].apply(feature_extract)\n",
    "a"
   ]
  },
  {
   "cell_type": "markdown",
   "metadata": {},
   "source": [
    "#### Feature Engineering"
   ]
  },
  {
   "cell_type": "code",
   "execution_count": 21,
   "metadata": {},
   "outputs": [],
   "source": [
    "from sklearn.feature_extraction.text import CountVectorizer\n",
    "cv = CountVectorizer(ngram_range=(1,6))"
   ]
  },
  {
   "cell_type": "code",
   "execution_count": 24,
   "metadata": {},
   "outputs": [],
   "source": [
    "b = cv.fit_transform(a)"
   ]
  },
  {
   "cell_type": "code",
   "execution_count": 49,
   "metadata": {},
   "outputs": [],
   "source": [
    "train_data['vector_text'] = cv.transform(a).todense"
   ]
  },
  {
   "cell_type": "code",
   "execution_count": 50,
   "metadata": {},
   "outputs": [
    {
     "data": {
      "text/plain": [
       "<bound method spmatrix.todense of <24984x1591107 sparse matrix of type '<class 'numpy.int64'>'\n",
       "\twith 5283118 stored elements in Compressed Sparse Row format>>"
      ]
     },
     "execution_count": 50,
     "metadata": {},
     "output_type": "execute_result"
    }
   ],
   "source": [
    "train_data['vector_text'][1]"
   ]
  },
  {
   "cell_type": "code",
   "execution_count": 44,
   "metadata": {},
   "outputs": [],
   "source": [
    "class_encode = {'positive':1,'negative':0}\n",
    "X_train = train_data['vector_text']\n",
    "y_train = train_data['Sentiment'].apply(lambda x: class_encode[x])"
   ]
  }
 ],
 "metadata": {
  "kernelspec": {
   "display_name": "Python 3.9.6 64-bit",
   "language": "python",
   "name": "python3"
  },
  "language_info": {
   "codemirror_mode": {
    "name": "ipython",
    "version": 3
   },
   "file_extension": ".py",
   "mimetype": "text/x-python",
   "name": "python",
   "nbconvert_exporter": "python",
   "pygments_lexer": "ipython3",
   "version": "3.9.6"
  },
  "orig_nbformat": 4,
  "vscode": {
   "interpreter": {
    "hash": "0bae745f8ec4217fabcb8fee07d6f0cfda3eab62b76dc08b9184a36fb0012116"
   }
  }
 },
 "nbformat": 4,
 "nbformat_minor": 2
}
